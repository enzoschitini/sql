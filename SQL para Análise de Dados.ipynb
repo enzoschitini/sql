{
 "cells": [
  {
   "cell_type": "markdown",
   "id": "ec09f637",
   "metadata": {
    "id": "KJqp9AANOCtf",
    "papermill": {
     "duration": 0.038866,
     "end_time": "2024-10-30T19:17:53.735284",
     "exception": false,
     "start_time": "2024-10-30T19:17:53.696418",
     "status": "completed"
    },
    "tags": []
   },
   "source": [
    "<img src=\"https://raw.githubusercontent.com/andre-marcos-perez/ebac-course-utils/main/media/logo/newebac_logo_black_half.png\" alt=\"ebac-logo\">\n",
    "\n",
    "---\n",
    "\n",
    "# **Módulo 01** | SQL: Base de dados & Linguagem SQL\n",
    "Caderno de **Aula**<br> \n",
    "Professor [André Perez](https://www.linkedin.com/in/andremarcosperez/)\n",
    "\n",
    "---"
   ]
  },
  {
   "cell_type": "markdown",
   "id": "6a683d14",
   "metadata": {
    "id": "d9jDtUbDOE1-",
    "papermill": {
     "duration": 0.035071,
     "end_time": "2024-10-30T19:17:53.805746",
     "exception": false,
     "start_time": "2024-10-30T19:17:53.770675",
     "status": "completed"
    },
    "tags": []
   },
   "source": [
    "# **Tópicos**\n",
    "\n",
    "<ol type=\"1\">\n",
    "  <li>Introdução ao Google Colab;</li>\n",
    "  <li>Bases de dados relacionais;</li>\n",
    "  <li>Introdução ao SQL;</li>\n",
    "  <li>Introdução ao AWS Console;</li>\n",
    "  <li>Armazenamento de dados com AWS S3;</li>\n",
    "  <li>Computação em SQL com AWS Athena.</li>\n",
    "</ol>"
   ]
  },
  {
   "cell_type": "markdown",
   "id": "0c56406f",
   "metadata": {
    "id": "SmoHgt-lwkpD",
    "papermill": {
     "duration": 0.034682,
     "end_time": "2024-10-30T19:17:53.875502",
     "exception": false,
     "start_time": "2024-10-30T19:17:53.840820",
     "status": "completed"
    },
    "tags": []
   },
   "source": [
    "---"
   ]
  },
  {
   "cell_type": "markdown",
   "id": "875d745d",
   "metadata": {
    "id": "GABI6OW8OfQ2",
    "papermill": {
     "duration": 0.034825,
     "end_time": "2024-10-30T19:17:53.945311",
     "exception": false,
     "start_time": "2024-10-30T19:17:53.910486",
     "status": "completed"
    },
    "tags": []
   },
   "source": [
    "# **Aulas**"
   ]
  },
  {
   "cell_type": "markdown",
   "id": "e91f99cd",
   "metadata": {
    "id": "muD1vxozykSC",
    "papermill": {
     "duration": 0.034694,
     "end_time": "2024-10-30T19:17:54.015137",
     "exception": false,
     "start_time": "2024-10-30T19:17:53.980443",
     "status": "completed"
    },
    "tags": []
   },
   "source": [
    "## 1\\. Introdução ao Google Colab"
   ]
  },
  {
   "cell_type": "markdown",
   "id": "48fd3f61",
   "metadata": {
    "id": "xT1ohV3t0FQJ",
    "papermill": {
     "duration": 0.034909,
     "end_time": "2024-10-30T19:17:54.085468",
     "exception": false,
     "start_time": "2024-10-30T19:17:54.050559",
     "status": "completed"
    },
    "tags": []
   },
   "source": [
    "> Ferramenta web autogerênciada de cadernos (*notebooks*)."
   ]
  },
  {
   "cell_type": "markdown",
   "id": "f909e7fa",
   "metadata": {
    "id": "5a3_syBIP6yO",
    "papermill": {
     "duration": 0.034828,
     "end_time": "2024-10-30T19:17:54.155391",
     "exception": false,
     "start_time": "2024-10-30T19:17:54.120563",
     "status": "completed"
    },
    "tags": []
   },
   "source": [
    "### **1.1. Ferramenta web** "
   ]
  },
  {
   "cell_type": "markdown",
   "id": "3e184584",
   "metadata": {
    "id": "xF1tFQyRQag2",
    "papermill": {
     "duration": 0.035036,
     "end_time": "2024-10-30T19:17:54.225536",
     "exception": false,
     "start_time": "2024-10-30T19:17:54.190500",
     "status": "completed"
    },
    "tags": []
   },
   "source": [
    "\n",
    "\n",
    "*   Crie uma conta Google em [gmail.com](https://gmail.com);\n",
    "*   Acesse o Google Colab através do endereço [colab.research.google.com](https://colab.research.google.com/).\n",
    "\n",
    "\n"
   ]
  },
  {
   "cell_type": "markdown",
   "id": "fc10decf",
   "metadata": {
    "id": "VkIgtLmhQRDV",
    "papermill": {
     "duration": 0.03478,
     "end_time": "2024-10-30T19:17:54.333823",
     "exception": false,
     "start_time": "2024-10-30T19:17:54.299043",
     "status": "completed"
    },
    "tags": []
   },
   "source": [
    "### **1.2. Autogerênciada** "
   ]
  },
  {
   "cell_type": "markdown",
   "id": "8e29ed75",
   "metadata": {
    "id": "P14BSbuH0SQB",
    "papermill": {
     "duration": 0.034783,
     "end_time": "2024-10-30T19:17:54.403685",
     "exception": false,
     "start_time": "2024-10-30T19:17:54.368902",
     "status": "completed"
    },
    "tags": []
   },
   "source": [
    "\n",
    "\n",
    "*   A Google provisiona uma máquina virtual para você;\n",
    "*   A máquina virtual dura no máximo 12h.\n",
    "\n"
   ]
  },
  {
   "cell_type": "markdown",
   "id": "a3e77848",
   "metadata": {
    "id": "mIgaH380QG2e",
    "papermill": {
     "duration": 0.034808,
     "end_time": "2024-10-30T19:17:54.474490",
     "exception": false,
     "start_time": "2024-10-30T19:17:54.439682",
     "status": "completed"
    },
    "tags": []
   },
   "source": [
    "### **1.3. Cadernos (*notebooks*)** "
   ]
  },
  {
   "cell_type": "markdown",
   "id": "9f9eae89",
   "metadata": {
    "id": "_4Q4H0RKm-4G",
    "papermill": {
     "duration": 0.034872,
     "end_time": "2024-10-30T19:17:54.544146",
     "exception": false,
     "start_time": "2024-10-30T19:17:54.509274",
     "status": "completed"
    },
    "tags": []
   },
   "source": [
    "Um **caderno** é um documento *web* composto por um conjunto de elementos (células) de texto e código:\n",
    "\n",
    "\n",
    "*   Células de **texto** podem ser editados com o editor da ferramenta, HTML ou Markdown; \n",
    "*   ~Células de **código** são exclusivamente para a linguagem de programação Python~.\n",
    "\n"
   ]
  },
  {
   "cell_type": "markdown",
   "id": "75c82343",
   "metadata": {
    "id": "zC2XR1GRaFl5",
    "papermill": {
     "duration": 0.035377,
     "end_time": "2024-10-30T19:17:54.614341",
     "exception": false,
     "start_time": "2024-10-30T19:17:54.578964",
     "status": "completed"
    },
    "tags": []
   },
   "source": [
    "## 2\\. Bases de Dados Relacionais"
   ]
  },
  {
   "cell_type": "markdown",
   "id": "f2a2a8b8",
   "metadata": {
    "id": "GsA0OqRRdBzi",
    "papermill": {
     "duration": 0.034939,
     "end_time": "2024-10-30T19:17:54.684323",
     "exception": false,
     "start_time": "2024-10-30T19:17:54.649384",
     "status": "completed"
    },
    "tags": []
   },
   "source": [
    "### **2.1. Físico** "
   ]
  },
  {
   "cell_type": "markdown",
   "id": "646ada00",
   "metadata": {
    "id": "nmWUu2E7JzZo",
    "papermill": {
     "duration": 0.034671,
     "end_time": "2024-10-30T19:17:54.753754",
     "exception": false,
     "start_time": "2024-10-30T19:17:54.719083",
     "status": "completed"
    },
    "tags": []
   },
   "source": [
    "Conceitos relacionados ao armazenamento físico dos dados."
   ]
  },
  {
   "cell_type": "markdown",
   "id": "9c9b33f7",
   "metadata": {
    "id": "gfS4k76RJf6L",
    "papermill": {
     "duration": 0.034565,
     "end_time": "2024-10-30T19:17:54.823470",
     "exception": false,
     "start_time": "2024-10-30T19:17:54.788905",
     "status": "completed"
    },
    "tags": []
   },
   "source": [
    " - Sistema Gerenciador de Base de Dados (SGBD)\n",
    "\n",
    "> Software que gerencia o armazenamento físico de dados. \n",
    "\n",
    "Alguns exemplos:\n",
    "\n",
    "- [MySQL](https://www.mysql.com/);\n",
    "- [PostgreSQL](https://www.postgresql.org/);\n",
    "- [MariaDB](https://mariadb.org/);\n",
    "- [Oracle](https://www.oracle.com/br/index.html)"
   ]
  },
  {
   "cell_type": "markdown",
   "id": "1e6b3458",
   "metadata": {
    "id": "sV1otxQVhcaA",
    "papermill": {
     "duration": 0.034779,
     "end_time": "2024-10-30T19:17:54.893184",
     "exception": false,
     "start_time": "2024-10-30T19:17:54.858405",
     "status": "completed"
    },
    "tags": []
   },
   "source": [
    "### **2.2. Lógico** "
   ]
  },
  {
   "cell_type": "markdown",
   "id": "4a91549b",
   "metadata": {
    "id": "8hZ3XTwIJs9e",
    "papermill": {
     "duration": 0.034933,
     "end_time": "2024-10-30T19:17:54.963244",
     "exception": false,
     "start_time": "2024-10-30T19:17:54.928311",
     "status": "completed"
    },
    "tags": []
   },
   "source": [
    "Conceitos relacionados a organização lógica dos dados."
   ]
  },
  {
   "cell_type": "markdown",
   "id": "30be7f20",
   "metadata": {
    "id": "VkAuKppdb5Sw",
    "papermill": {
     "duration": 0.035375,
     "end_time": "2024-10-30T19:17:55.034073",
     "exception": false,
     "start_time": "2024-10-30T19:17:54.998698",
     "status": "completed"
    },
    "tags": []
   },
   "source": [
    "- Tabela\n",
    "\n",
    "> Estrutura lógica e tabular de dados organizados em linhas e colunas.\n",
    "\n",
    "- Base de Dado\n",
    "\n",
    "> Conjunto lógico de tabelas."
   ]
  },
  {
   "cell_type": "markdown",
   "id": "54f1ef73",
   "metadata": {
    "id": "ZtOHwcxEaGGp",
    "papermill": {
     "duration": 0.036009,
     "end_time": "2024-10-30T19:17:55.106074",
     "exception": false,
     "start_time": "2024-10-30T19:17:55.070065",
     "status": "completed"
    },
    "tags": []
   },
   "source": [
    "## 3\\. Introdução ao SQL"
   ]
  },
  {
   "cell_type": "markdown",
   "id": "82c41d45",
   "metadata": {
    "id": "s_Dj-BgThLg5",
    "papermill": {
     "duration": 0.035383,
     "end_time": "2024-10-30T19:17:55.176998",
     "exception": false,
     "start_time": "2024-10-30T19:17:55.141615",
     "status": "completed"
    },
    "tags": []
   },
   "source": [
    "### **3.1. Definição** "
   ]
  },
  {
   "cell_type": "markdown",
   "id": "e97880f7",
   "metadata": {
    "id": "-WX56uZlEVEb",
    "papermill": {
     "duration": 0.035319,
     "end_time": "2024-10-30T19:17:55.248191",
     "exception": false,
     "start_time": "2024-10-30T19:17:55.212872",
     "status": "completed"
    },
    "tags": []
   },
   "source": [
    "A linguagem de consulta estruturada, do inglês *structured query language* ou SQL, é uma linguagem de programação declarativa para interação com os dados armazenados nas tabelas de uma base de dados. Existe uma versão padrão do SQL registrada no ANSI, mas cada SGBD tem a sua própria versão."
   ]
  },
  {
   "cell_type": "markdown",
   "id": "b446ccae",
   "metadata": {
    "id": "sKzdtDbMun4R",
    "papermill": {
     "duration": 0.035093,
     "end_time": "2024-10-30T19:17:55.318646",
     "exception": false,
     "start_time": "2024-10-30T19:17:55.283553",
     "status": "completed"
    },
    "tags": []
   },
   "source": [
    "Os códigos SQL são conhecidos como *queries* e são divididas em dois grandes grupos:\n",
    "\n",
    " - **DDL**: Linguagem de definição de dados;\n",
    " - **DML**: Linguagem de manipulação de dados."
   ]
  },
  {
   "cell_type": "markdown",
   "id": "97a8b181",
   "metadata": {
    "id": "v3_dMvgTvWUO",
    "papermill": {
     "duration": 0.03545,
     "end_time": "2024-10-30T19:17:55.389249",
     "exception": false,
     "start_time": "2024-10-30T19:17:55.353799",
     "status": "completed"
    },
    "tags": []
   },
   "source": [
    "Para exemplificar esses conceitos, vamos utilizar a tabela abaixo, com dados de clientes de uma instituição financeira."
   ]
  },
  {
   "cell_type": "markdown",
   "id": "ab55e0c4",
   "metadata": {
    "id": "ubiOD7fyNB9t",
    "papermill": {
     "duration": 0.036043,
     "end_time": "2024-10-30T19:17:55.460791",
     "exception": false,
     "start_time": "2024-10-30T19:17:55.424748",
     "status": "completed"
    },
    "tags": []
   },
   "source": [
    "| id        | idade | sexo | dependentes | escolaridade | tipo_cartao | limite_credito | valor_transacoes_12m | qtd_transacoes_12m |\n",
    "|-----------|-------|------|---|--------------|-|----------------|----------|----|\n",
    "| 768805383 | 45    | M    | 3 | ensino medio | blue | 12.691,51      | 1.144,90 | 42 |\n",
    "| 818770008 | 49    | F    | 5 | mestrado     | blue | 8.256,96      | 1.291,45 | 33 |\n",
    "| 713982108 | 51    | M    | 3 | mestrado     | blue | 3.418,56      | 1.887,72 | 20 |"
   ]
  },
  {
   "cell_type": "markdown",
   "id": "e68656e5",
   "metadata": {
    "id": "tsZw5EJUdvot",
    "papermill": {
     "duration": 0.034915,
     "end_time": "2024-10-30T19:17:55.531061",
     "exception": false,
     "start_time": "2024-10-30T19:17:55.496146",
     "status": "completed"
    },
    "tags": []
   },
   "source": [
    "### **3.2. DDL** "
   ]
  },
  {
   "cell_type": "markdown",
   "id": "6308fb51",
   "metadata": {
    "id": "OfSIQwJhhN2M",
    "papermill": {
     "duration": 0.034957,
     "end_time": "2024-10-30T19:17:55.601277",
     "exception": false,
     "start_time": "2024-10-30T19:17:55.566320",
     "status": "completed"
    },
    "tags": []
   },
   "source": [
    "Linguagem de definição de dados, do inglês *Data Definition Language* ou DDL são instruções para criar/excluir/alterar tabelas e inserir/remover/atualizar dados."
   ]
  },
  {
   "cell_type": "markdown",
   "id": "ca6b01fa",
   "metadata": {
    "id": "tREDswZoedI1",
    "papermill": {
     "duration": 0.035112,
     "end_time": "2024-10-30T19:17:55.672322",
     "exception": false,
     "start_time": "2024-10-30T19:17:55.637210",
     "status": "completed"
    },
    "tags": []
   },
   "source": [
    "**Query 1:** Criar/excluir a tabela de `clientes`.\n",
    "\n"
   ]
  },
  {
   "cell_type": "markdown",
   "id": "5a3b3e99",
   "metadata": {
    "id": "-nt5mclf7vSs",
    "papermill": {
     "duration": 0.034939,
     "end_time": "2024-10-30T19:17:55.742370",
     "exception": false,
     "start_time": "2024-10-30T19:17:55.707431",
     "status": "completed"
    },
    "tags": []
   },
   "source": [
    "```sql\n",
    "CREATE TABLE clientes (\n",
    "  id BIGINT, \n",
    "  idade BIGINT, \n",
    "  sexo STRING, \n",
    "  dependentes BIGINT, \n",
    "  escolaridade STRING, \n",
    "  tipo_cartao STRING, \n",
    "  limite_credito DOUBLE, \n",
    "  valor_transacoes_12m DOUBLE, \n",
    "  qtd_transacoes_12m BIGINT\n",
    ");\n",
    "```"
   ]
  },
  {
   "cell_type": "markdown",
   "id": "48525425",
   "metadata": {
    "id": "kXR_G9yHwPTM",
    "papermill": {
     "duration": 0.034873,
     "end_time": "2024-10-30T19:17:55.812418",
     "exception": false,
     "start_time": "2024-10-30T19:17:55.777545",
     "status": "completed"
    },
    "tags": []
   },
   "source": [
    "**Query 2:** Excluir a tabela de `clientes`."
   ]
  },
  {
   "cell_type": "markdown",
   "id": "d4ba5bd4",
   "metadata": {
    "id": "Pp6XjLGFvtUS",
    "papermill": {
     "duration": 0.034929,
     "end_time": "2024-10-30T19:17:55.882355",
     "exception": false,
     "start_time": "2024-10-30T19:17:55.847426",
     "status": "completed"
    },
    "tags": []
   },
   "source": [
    "```sql\n",
    "DROP TABLE clientes;\n",
    "```"
   ]
  },
  {
   "cell_type": "markdown",
   "id": "0350de21",
   "metadata": {
    "id": "Ly2dlZejedI8",
    "papermill": {
     "duration": 0.034926,
     "end_time": "2024-10-30T19:17:55.952307",
     "exception": false,
     "start_time": "2024-10-30T19:17:55.917381",
     "status": "completed"
    },
    "tags": []
   },
   "source": [
    "**Query 3:** Inserir os dados na tabela de `clientes`.\n",
    "\n"
   ]
  },
  {
   "cell_type": "markdown",
   "id": "49d7b27a",
   "metadata": {
    "id": "FNYhrIPqedI9",
    "papermill": {
     "duration": 0.03497,
     "end_time": "2024-10-30T19:17:56.022289",
     "exception": false,
     "start_time": "2024-10-30T19:17:55.987319",
     "status": "completed"
    },
    "tags": []
   },
   "source": [
    "```sql\n",
    "INSERT INTO clientes VALUES (768805383, 45, 'M', 3, 'ensino medio', 'blue', 12691.51, 1144.90, 42);\n",
    "INSERT INTO clientes VALUES (818770008, 49, 'F', 5, 'mestrado', 'blue', 8256.96, 1291.45, 33);\n",
    "INSERT INTO clientes VALUES (713982108, 51, 'M', 3, 'mestrado', 'blue', 3418.56, 1887.72, 20);\n",
    "```"
   ]
  },
  {
   "cell_type": "markdown",
   "id": "53ccde1a",
   "metadata": {
    "id": "-goFDY58wTgo",
    "papermill": {
     "duration": 0.03536,
     "end_time": "2024-10-30T19:17:56.093153",
     "exception": false,
     "start_time": "2024-10-30T19:17:56.057793",
     "status": "completed"
    },
    "tags": []
   },
   "source": [
    "**Query 4:** Remover os dados das mulheres na tabela de `clientes`.\n",
    "\n"
   ]
  },
  {
   "cell_type": "markdown",
   "id": "98bc0c06",
   "metadata": {
    "id": "LJoXJ4_nwIPz",
    "papermill": {
     "duration": 0.034698,
     "end_time": "2024-10-30T19:17:56.163102",
     "exception": false,
     "start_time": "2024-10-30T19:17:56.128404",
     "status": "completed"
    },
    "tags": []
   },
   "source": [
    "```sql\n",
    "DELETE FROM clientes WHERE sexo = 'F';\n",
    "```"
   ]
  },
  {
   "cell_type": "markdown",
   "id": "bdbefdbe",
   "metadata": {
    "id": "SP_8R7dlhmQE",
    "papermill": {
     "duration": 0.034909,
     "end_time": "2024-10-30T19:17:56.233312",
     "exception": false,
     "start_time": "2024-10-30T19:17:56.198403",
     "status": "completed"
    },
    "tags": []
   },
   "source": [
    "### **3.3. DML** "
   ]
  },
  {
   "cell_type": "markdown",
   "id": "06ce3994",
   "metadata": {
    "id": "lr75bd93d-cB",
    "papermill": {
     "duration": 0.034889,
     "end_time": "2024-10-30T19:17:56.303281",
     "exception": false,
     "start_time": "2024-10-30T19:17:56.268392",
     "status": "completed"
    },
    "tags": []
   },
   "source": [
    "Linguagem de manipulação de dados, do inglês *Data Manipulation Language* ou DML são instruções para manipular (selecionar, filtrar, agregar, limitar, etc.) os dados armazenados em tabelas."
   ]
  },
  {
   "cell_type": "markdown",
   "id": "650b8d5e",
   "metadata": {
    "id": "-AicMXjxeSiG",
    "papermill": {
     "duration": 0.034834,
     "end_time": "2024-10-30T19:17:56.373352",
     "exception": false,
     "start_time": "2024-10-30T19:17:56.338518",
     "status": "completed"
    },
    "tags": []
   },
   "source": [
    "**Query 1:** Selecionar o id, a idade e o limite de crédito dos clientes homens da tabela de `clientes`, ordenados por idade de maneira decrescente."
   ]
  },
  {
   "cell_type": "markdown",
   "id": "2499b06b",
   "metadata": {
    "id": "OXK6MyQrd-cC",
    "papermill": {
     "duration": 0.036113,
     "end_time": "2024-10-30T19:17:56.444670",
     "exception": false,
     "start_time": "2024-10-30T19:17:56.408557",
     "status": "completed"
    },
    "tags": []
   },
   "source": [
    "```sql\n",
    "SELECT id, idade, limite_credito FROM clientes WHERE sexo = 'M' ORDER BY idade DESC;\n",
    "```"
   ]
  },
  {
   "cell_type": "markdown",
   "id": "64a6b160",
   "metadata": {
    "id": "7fmApduvrrcs",
    "papermill": {
     "duration": 0.035155,
     "end_time": "2024-10-30T19:17:56.515369",
     "exception": false,
     "start_time": "2024-10-30T19:17:56.480214",
     "status": "completed"
    },
    "tags": []
   },
   "source": [
    "| id        | idade | limite_credito |\n",
    "|-----------|-------|----------------|\n",
    "| 713982108 | 51    |   3418.56      |\n",
    "| 768805383 | 45    |  12691.51      |"
   ]
  },
  {
   "cell_type": "markdown",
   "id": "abb5cd53",
   "metadata": {
    "id": "ZjwHJnl1eYzN",
    "papermill": {
     "duration": 0.034844,
     "end_time": "2024-10-30T19:17:56.585654",
     "exception": false,
     "start_time": "2024-10-30T19:17:56.550810",
     "status": "completed"
    },
    "tags": []
   },
   "source": [
    "**Query 2:** Selecionar a média da idade dos clientes por sexo da tabela de `clientes`."
   ]
  },
  {
   "cell_type": "markdown",
   "id": "91295a49",
   "metadata": {
    "id": "WjuVn7JCeYzO",
    "papermill": {
     "duration": 0.035533,
     "end_time": "2024-10-30T19:17:56.656645",
     "exception": false,
     "start_time": "2024-10-30T19:17:56.621112",
     "status": "completed"
    },
    "tags": []
   },
   "source": [
    "```sql\n",
    "SELECT sexo, AVG(idade) AS \"media_idade_por_sexo\" FROM clientes GROUP BY sexo;\n",
    "```"
   ]
  },
  {
   "cell_type": "markdown",
   "id": "1a0982f5",
   "metadata": {
    "id": "sp8lBypSsa4b",
    "papermill": {
     "duration": 0.03486,
     "end_time": "2024-10-30T19:17:56.726688",
     "exception": false,
     "start_time": "2024-10-30T19:17:56.691828",
     "status": "completed"
    },
    "tags": []
   },
   "source": [
    "| sexo | media_idade_por_sexo |\n",
    "|------|----------------------|\n",
    "| M    | 48                   |\n",
    "| F    | 49                   |"
   ]
  },
  {
   "cell_type": "markdown",
   "id": "c401ad25",
   "metadata": {
    "id": "ne7Ay0HKaGSv",
    "papermill": {
     "duration": 0.034702,
     "end_time": "2024-10-30T19:17:56.796533",
     "exception": false,
     "start_time": "2024-10-30T19:17:56.761831",
     "status": "completed"
    },
    "tags": []
   },
   "source": [
    "## 4\\. Introdução ao AWS Console"
   ]
  },
  {
   "cell_type": "markdown",
   "id": "f6e0f31e",
   "metadata": {
    "id": "2zLVibiQtAly",
    "papermill": {
     "duration": 0.035068,
     "end_time": "2024-10-30T19:17:56.866645",
     "exception": false,
     "start_time": "2024-10-30T19:17:56.831577",
     "status": "completed"
    },
    "tags": []
   },
   "source": [
    "A Amazon Web Service (AWS) é uma plataforma de computação em nuvem. Ela oferece uma série de serviços de computação, armanezamento de dados, etc. Vamos utilizar dois serviços da plataforma para construir o nosso SGBD e aprender o SQL:"
   ]
  },
  {
   "cell_type": "markdown",
   "id": "d3401139",
   "metadata": {
    "id": "g8980AXwSUrB",
    "papermill": {
     "duration": 0.03482,
     "end_time": "2024-10-30T19:17:56.936845",
     "exception": false,
     "start_time": "2024-10-30T19:17:56.902025",
     "status": "completed"
    },
    "tags": []
   },
   "source": [
    " - AWS [S3](https://aws.amazon.com/pt/s3/): Serviço de armazenamento de dados;\n",
    " - AWS [Athena](https://aws.amazon.com/pt/athena/): Serviços de computação em SQL."
   ]
  },
  {
   "cell_type": "markdown",
   "id": "64bdd877",
   "metadata": {
    "id": "b0xVVZSBSWio",
    "papermill": {
     "duration": 0.035176,
     "end_time": "2024-10-30T19:17:57.007190",
     "exception": false,
     "start_time": "2024-10-30T19:17:56.972014",
     "status": "completed"
    },
    "tags": []
   },
   "source": [
    "> **Atenção:** Todo serviço utilizado tem um custo associado! Se a sua conta da AWS é nova, você é elegível a diversos serviços gratuitos (por tempo/quota de uso, etc.). Confira nesse [link](https://aws.amazon.com/pt/free) a oferta atual (elas podem mudar ao longo do tempo)."
   ]
  },
  {
   "cell_type": "markdown",
   "id": "ae56d78b",
   "metadata": {
    "id": "0vankGNAHepJ",
    "papermill": {
     "duration": 0.034857,
     "end_time": "2024-10-30T19:17:57.077429",
     "exception": false,
     "start_time": "2024-10-30T19:17:57.042572",
     "status": "completed"
    },
    "tags": []
   },
   "source": [
    "Para criar a sua conta na plataforma, basta acessar este [link](https://portal.aws.amazon.com/)."
   ]
  },
  {
   "cell_type": "markdown",
   "id": "6951c253",
   "metadata": {
    "id": "EvJTE2FpaGeU",
    "papermill": {
     "duration": 0.034773,
     "end_time": "2024-10-30T19:17:57.147589",
     "exception": false,
     "start_time": "2024-10-30T19:17:57.112816",
     "status": "completed"
    },
    "tags": []
   },
   "source": [
    "## 5\\. Armazenamento de dados com AWS S3"
   ]
  },
  {
   "cell_type": "markdown",
   "id": "e65adf88",
   "metadata": {
    "id": "Bf3gvEtslb1v",
    "papermill": {
     "duration": 0.034661,
     "end_time": "2024-10-30T19:17:57.217424",
     "exception": false,
     "start_time": "2024-10-30T19:17:57.182763",
     "status": "completed"
    },
    "tags": []
   },
   "source": [
    "### **5.1. Definição** "
   ]
  },
  {
   "cell_type": "markdown",
   "id": "bc0b98ee",
   "metadata": {
    "id": "ISYXZbomlb1x",
    "papermill": {
     "duration": 0.03497,
     "end_time": "2024-10-30T19:17:57.287557",
     "exception": false,
     "start_time": "2024-10-30T19:17:57.252587",
     "status": "completed"
    },
    "tags": []
   },
   "source": [
    "O AWS [S3](https://aws.amazon.com/pt/s3/) é um serviço de armazenameto distribuido e sem servidor que atua como um repositório de dados. O serviço é inspirado no famoso projeto *open source* [Apache Hadoop](https://hadoop.apache.org/).\n",
    "\n"
   ]
  },
  {
   "cell_type": "markdown",
   "id": "5b076e30",
   "metadata": {
    "id": "pnxYnr6flb1y",
    "papermill": {
     "duration": 0.034948,
     "end_time": "2024-10-30T19:17:57.357806",
     "exception": false,
     "start_time": "2024-10-30T19:17:57.322858",
     "status": "completed"
    },
    "tags": []
   },
   "source": [
    "### **5.2. Funcionamento** "
   ]
  },
  {
   "cell_type": "markdown",
   "id": "e208b898",
   "metadata": {
    "id": "NY8c3fEWlb1y",
    "papermill": {
     "duration": 0.035107,
     "end_time": "2024-10-30T19:17:57.428538",
     "exception": false,
     "start_time": "2024-10-30T19:17:57.393431",
     "status": "completed"
    },
    "tags": []
   },
   "source": [
    "1. Um *bucket* é uma partição lógica de dados, como uma pasta do seu computador;\n",
    "2. Um objeto é um dado que você armazena dentro de um um *bucket*;\n",
    "3. Outros serviços da plataforma podem acessar os dados armazenados. "
   ]
  },
  {
   "cell_type": "markdown",
   "id": "08e3bc4c",
   "metadata": {
    "id": "h_7ULt6Wlb1z",
    "papermill": {
     "duration": 0.035603,
     "end_time": "2024-10-30T19:17:57.500567",
     "exception": false,
     "start_time": "2024-10-30T19:17:57.464964",
     "status": "completed"
    },
    "tags": []
   },
   "source": [
    "### **5.3. Definição de Preço** "
   ]
  },
  {
   "cell_type": "markdown",
   "id": "c8a2b259",
   "metadata": {
    "id": "J54rLu4Mlb10",
    "papermill": {
     "duration": 0.034986,
     "end_time": "2024-10-30T19:17:57.570992",
     "exception": false,
     "start_time": "2024-10-30T19:17:57.536006",
     "status": "completed"
    },
    "tags": []
   },
   "source": [
    "O AWS [S3](https://aws.amazon.com/pt/s3/) cobra por volume de dados armazenado. O preço atual é complexo, mas inicia-se com 0,0405 USD por *gigabyte* (GB) armazenado (0,21 BRL aproximadamente). Você deve sempre consultar o preço na página web do serviço ([link](https://aws.amazon.com/pt/s3/pricing/?nc=sn&loc=4))."
   ]
  },
  {
   "cell_type": "markdown",
   "id": "036768b4",
   "metadata": {
    "id": "oVejInuPakz5",
    "papermill": {
     "duration": 0.035758,
     "end_time": "2024-10-30T19:17:57.642185",
     "exception": false,
     "start_time": "2024-10-30T19:17:57.606427",
     "status": "completed"
    },
    "tags": []
   },
   "source": [
    "## 6\\. Computação em SQL com o AWS Athena"
   ]
  },
  {
   "cell_type": "markdown",
   "id": "0c3bdaad",
   "metadata": {
    "id": "ejDMY2FKi8m3",
    "papermill": {
     "duration": 0.035311,
     "end_time": "2024-10-30T19:17:57.712887",
     "exception": false,
     "start_time": "2024-10-30T19:17:57.677576",
     "status": "completed"
    },
    "tags": []
   },
   "source": [
    "### **6.1. Definição** "
   ]
  },
  {
   "cell_type": "markdown",
   "id": "d1279c08",
   "metadata": {
    "id": "CZbuPphXakz7",
    "papermill": {
     "duration": 0.03498,
     "end_time": "2024-10-30T19:17:57.782815",
     "exception": false,
     "start_time": "2024-10-30T19:17:57.747835",
     "status": "completed"
    },
    "tags": []
   },
   "source": [
    "O AWS [Athena](https://aws.amazon.com/pt/athena/) é um serviço de computação distribuida e sem servidor que atua como um motor de consulta (*query engine*). Por trás dos panos, ele implementa na infrastrutura computacional da AWS um projeto *open source* chamado [Presto](https://prestodb.io/).\n",
    "\n"
   ]
  },
  {
   "cell_type": "markdown",
   "id": "a38980e8",
   "metadata": {
    "id": "SadRMFFVjAY1",
    "papermill": {
     "duration": 0.035168,
     "end_time": "2024-10-30T19:17:57.852910",
     "exception": false,
     "start_time": "2024-10-30T19:17:57.817742",
     "status": "completed"
    },
    "tags": []
   },
   "source": [
    "### **6.2. Funcionamento** "
   ]
  },
  {
   "cell_type": "markdown",
   "id": "0a23024e",
   "metadata": {
    "id": "N2j-pN5VjAY3",
    "papermill": {
     "duration": 0.034916,
     "end_time": "2024-10-30T19:17:57.922933",
     "exception": false,
     "start_time": "2024-10-30T19:17:57.888017",
     "status": "completed"
    },
    "tags": []
   },
   "source": [
    "1. Transforma uma *query* em código;\n",
    "2. Processa os arquivos armazenados no AWS S3 com o código gerado; \n",
    "3. Retorna os resultados no console. "
   ]
  },
  {
   "cell_type": "markdown",
   "id": "61fc3db8",
   "metadata": {
    "id": "dYWYEfZajAiE",
    "papermill": {
     "duration": 0.034953,
     "end_time": "2024-10-30T19:17:57.993389",
     "exception": false,
     "start_time": "2024-10-30T19:17:57.958436",
     "status": "completed"
    },
    "tags": []
   },
   "source": [
    "### **6.3. Definição de Preço** "
   ]
  },
  {
   "cell_type": "markdown",
   "id": "c1d88436",
   "metadata": {
    "id": "ESQ6yMH0jAiE",
    "papermill": {
     "duration": 0.035109,
     "end_time": "2024-10-30T19:17:58.063646",
     "exception": false,
     "start_time": "2024-10-30T19:17:58.028537",
     "status": "completed"
    },
    "tags": []
   },
   "source": [
    "O AWS [Athena](https://aws.amazon.com/pt/athena/) cobra por consulta. O preço atual é de 9,00 USD por *terabyte* escaneado (47,46 BRL aproximadamente). Você deve sempre consultar o preço na página web do serviço ([link](https://aws.amazon.com/pt/athena/pricing/?nc=sn&loc=3))."
   ]
  },
  {
   "cell_type": "markdown",
   "id": "2c88b172",
   "metadata": {
    "id": "KJqp9AANOCtf",
    "papermill": {
     "duration": 0.035065,
     "end_time": "2024-10-30T19:17:58.134136",
     "exception": false,
     "start_time": "2024-10-30T19:17:58.099071",
     "status": "completed"
    },
    "tags": []
   },
   "source": [
    "<img src=\"https://raw.githubusercontent.com/andre-marcos-perez/ebac-course-utils/main/media/logo/newebac_logo_black_half.png\" alt=\"ebac-logo\">\n",
    "\n",
    "---\n",
    "\n",
    "# **Módulo 02** | SQL: Trabalhando com Tabelas\n",
    "Caderno de **Aula**<br> \n",
    "Professor [Mariane Neiva](www.linkedin.com/in/mariane-neiva)\n",
    "\n",
    "---"
   ]
  },
  {
   "cell_type": "markdown",
   "id": "ba4f90c5",
   "metadata": {
    "id": "d9jDtUbDOE1-",
    "papermill": {
     "duration": 0.035249,
     "end_time": "2024-10-30T19:17:58.204582",
     "exception": false,
     "start_time": "2024-10-30T19:17:58.169333",
     "status": "completed"
    },
    "tags": []
   },
   "source": [
    "# **Tópicos**\n",
    "\n",
    "<ol type=\"1\">\n",
    "  <li>Criando tabelas;</li>\n",
    "  <li>Alterando e descartando tabelas;</li>\n",
    "  <li>Inserindo, atualizando e apagando dados;</li>\n",
    "</ol>"
   ]
  },
  {
   "cell_type": "markdown",
   "id": "f322479c",
   "metadata": {
    "id": "SmoHgt-lwkpD",
    "papermill": {
     "duration": 0.034896,
     "end_time": "2024-10-30T19:17:58.274534",
     "exception": false,
     "start_time": "2024-10-30T19:17:58.239638",
     "status": "completed"
    },
    "tags": []
   },
   "source": [
    "---"
   ]
  },
  {
   "cell_type": "markdown",
   "id": "00bf83b0",
   "metadata": {
    "id": "GABI6OW8OfQ2",
    "papermill": {
     "duration": 0.035242,
     "end_time": "2024-10-30T19:17:58.344738",
     "exception": false,
     "start_time": "2024-10-30T19:17:58.309496",
     "status": "completed"
    },
    "tags": []
   },
   "source": [
    "# **Aulas**"
   ]
  },
  {
   "cell_type": "markdown",
   "id": "a0386ffc",
   "metadata": {
    "id": "muD1vxozykSC",
    "papermill": {
     "duration": 0.038377,
     "end_time": "2024-10-30T19:17:58.419524",
     "exception": false,
     "start_time": "2024-10-30T19:17:58.381147",
     "status": "completed"
    },
    "tags": []
   },
   "source": [
    "## 1\\. Criando tabelas"
   ]
  },
  {
   "cell_type": "markdown",
   "id": "14900886",
   "metadata": {
    "id": "5a3_syBIP6yO",
    "papermill": {
     "duration": 0.035205,
     "end_time": "2024-10-30T19:17:58.498587",
     "exception": false,
     "start_time": "2024-10-30T19:17:58.463382",
     "status": "completed"
    },
    "tags": []
   },
   "source": [
    "### **1.1. Tipos de dados** "
   ]
  },
  {
   "cell_type": "markdown",
   "id": "3a2fe6c7",
   "metadata": {
    "id": "xF1tFQyRQag2",
    "papermill": {
     "duration": 0.041646,
     "end_time": "2024-10-30T19:17:58.575503",
     "exception": false,
     "start_time": "2024-10-30T19:17:58.533857",
     "status": "completed"
    },
    "tags": []
   },
   "source": [
    "*   **INT** - Valores numéricos exatos que usam dados inteiros.\n",
    "\n",
    "\n",
    "| Tipo de dados        | Intervalo | Amazenamento | \n",
    "|-----------|-------|------|\n",
    "| bigint | -2^63 (-9.223.372.036.854.775.808) a 2^63-1 (9.223.372.036.854.775.807)    | 8 bytes    | \n",
    "| int | -2^31 (-2.147.483.648) a 2^31-1 (2.147.483.647)    | 4 bytes    | \n",
    "| smallint | -2^15 (-32.768) a 2^15-1 (32.767)    | 2 bytes    | \n",
    "| tinyint | 0 a 255    | 1 byte    | \n",
    "\n",
    "<br>\n",
    "\n",
    "*   **FLOAT** e **DOUBLE** - Valores numéricos aproximados para uso com dados numéricos de ponto flutuante.\n",
    "\n",
    "*   **BOOLEAN** - Valores verdadeiro(1) e falso(0).\n",
    "\n",
    "*   **CHAR**, **VARCHAR** e **STRING** -  Valores de caractere.\n",
    "\n",
    "*   **DATE** e **TIMESTAMP** -  Valores de cadeia de caractere pré-formatado (data/hora).\n",
    "\n",
    "\n",
    "\n",
    "\n"
   ]
  },
  {
   "cell_type": "markdown",
   "id": "375e74c5",
   "metadata": {
    "id": "Y3G8CBk-1w6L",
    "papermill": {
     "duration": 0.047953,
     "end_time": "2024-10-30T19:17:58.667847",
     "exception": false,
     "start_time": "2024-10-30T19:17:58.619894",
     "status": "completed"
    },
    "tags": []
   },
   "source": [
    "Consulte os detalhes [aqui](https://docs.aws.amazon.com/athena/latest/ug/data-types.html)."
   ]
  },
  {
   "cell_type": "markdown",
   "id": "a1fbf28c",
   "metadata": {
    "id": "VkIgtLmhQRDV",
    "papermill": {
     "duration": 0.038467,
     "end_time": "2024-10-30T19:17:58.742960",
     "exception": false,
     "start_time": "2024-10-30T19:17:58.704493",
     "status": "completed"
    },
    "tags": []
   },
   "source": [
    "### **1.2. Comando CREATE** "
   ]
  },
  {
   "cell_type": "markdown",
   "id": "e9d37239",
   "metadata": {
    "id": "Irt2Ji_1Lj7N",
    "papermill": {
     "duration": 0.035909,
     "end_time": "2024-10-30T19:17:58.815095",
     "exception": false,
     "start_time": "2024-10-30T19:17:58.779186",
     "status": "completed"
    },
    "tags": []
   },
   "source": [
    "```sql\n",
    "CREATE TABLE <nome_da_tabela> (\n",
    "  <nome_da_coluna_1> <tipo_da_coluna_1>, \n",
    "  <nome_da_coluna_2> <tipo_da_coluna_2>, \n",
    "  ...\n",
    ");\n",
    "```"
   ]
  },
  {
   "cell_type": "markdown",
   "id": "452ce998",
   "metadata": {
    "id": "tREDswZoedI1",
    "papermill": {
     "duration": 0.039788,
     "end_time": "2024-10-30T19:17:58.890947",
     "exception": false,
     "start_time": "2024-10-30T19:17:58.851159",
     "status": "completed"
    },
    "tags": []
   },
   "source": [
    "**Query 1:** Criar a tabela de `transacoes`.\n",
    "\n"
   ]
  },
  {
   "cell_type": "markdown",
   "id": "4cf14fb9",
   "metadata": {
    "id": "-nt5mclf7vSs",
    "papermill": {
     "duration": 0.035143,
     "end_time": "2024-10-30T19:17:58.963649",
     "exception": false,
     "start_time": "2024-10-30T19:17:58.928506",
     "status": "completed"
    },
    "tags": []
   },
   "source": [
    "```sql\n",
    "CREATE TABLE transacoes (\n",
    "  id_transacao INT,\n",
    "  id_cliente INT, \n",
    "  data_compra DATE,\n",
    "  valor FLOAT, \n",
    ");\n",
    "```"
   ]
  },
  {
   "cell_type": "markdown",
   "id": "de6eb6e9",
   "metadata": {
    "id": "zC2XR1GRaFl5",
    "papermill": {
     "duration": 0.035124,
     "end_time": "2024-10-30T19:17:59.034198",
     "exception": false,
     "start_time": "2024-10-30T19:17:58.999074",
     "status": "completed"
    },
    "tags": []
   },
   "source": [
    "## 2\\. Alterando e descartando tabelas"
   ]
  },
  {
   "cell_type": "markdown",
   "id": "e14dff38",
   "metadata": {
    "id": "GsA0OqRRdBzi",
    "papermill": {
     "duration": 0.03518,
     "end_time": "2024-10-30T19:17:59.105110",
     "exception": false,
     "start_time": "2024-10-30T19:17:59.069930",
     "status": "completed"
    },
    "tags": []
   },
   "source": [
    "### **2.1. Comando ALTER TABLE** "
   ]
  },
  {
   "cell_type": "markdown",
   "id": "5038f99f",
   "metadata": {
    "id": "yI9fUZPd9nEi",
    "papermill": {
     "duration": 0.035,
     "end_time": "2024-10-30T19:17:59.175857",
     "exception": false,
     "start_time": "2024-10-30T19:17:59.140857",
     "status": "completed"
    },
    "tags": []
   },
   "source": [
    "**Para adicionar uma coluna:**"
   ]
  },
  {
   "cell_type": "markdown",
   "id": "3ac0c0d2",
   "metadata": {
    "id": "nmWUu2E7JzZo",
    "papermill": {
     "duration": 0.034962,
     "end_time": "2024-10-30T19:17:59.246587",
     "exception": false,
     "start_time": "2024-10-30T19:17:59.211625",
     "status": "completed"
    },
    "tags": []
   },
   "source": [
    "```sql\n",
    "ALTER TABLE <nome_da_tabela>\n",
    "ADD <nome_da_coluna> <tipo_da_coluna>;\n",
    "```"
   ]
  },
  {
   "cell_type": "markdown",
   "id": "7b94b50e",
   "metadata": {
    "id": "gfS4k76RJf6L",
    "papermill": {
     "duration": 0.034948,
     "end_time": "2024-10-30T19:17:59.316877",
     "exception": false,
     "start_time": "2024-10-30T19:17:59.281929",
     "status": "completed"
    },
    "tags": []
   },
   "source": [
    "Query 1: Adicionar coluna `id_loja` na tabela `transacoes`"
   ]
  },
  {
   "cell_type": "markdown",
   "id": "cf937b21",
   "metadata": {
    "id": "pu8VRN4bO1JP",
    "papermill": {
     "duration": 0.035293,
     "end_time": "2024-10-30T19:17:59.387865",
     "exception": false,
     "start_time": "2024-10-30T19:17:59.352572",
     "status": "completed"
    },
    "tags": []
   },
   "source": [
    "```sql\n",
    "ALTER TABLE transacoes\n",
    "ADD id_loja STRING;\n",
    "```"
   ]
  },
  {
   "cell_type": "markdown",
   "id": "c35e792e",
   "metadata": {
    "id": "6YKB8DX-9-c6",
    "papermill": {
     "duration": 0.036645,
     "end_time": "2024-10-30T19:17:59.460074",
     "exception": false,
     "start_time": "2024-10-30T19:17:59.423429",
     "status": "completed"
    },
    "tags": []
   },
   "source": [
    "**Para alterar uma coluna:**"
   ]
  },
  {
   "cell_type": "markdown",
   "id": "238d3d9f",
   "metadata": {
    "id": "uHHo2Y6XAdIT",
    "papermill": {
     "duration": 0.035112,
     "end_time": "2024-10-30T19:17:59.530686",
     "exception": false,
     "start_time": "2024-10-30T19:17:59.495574",
     "status": "completed"
    },
    "tags": []
   },
   "source": [
    "```sql\n",
    "ALTER TABLE <nome_da_tabela>\n",
    "ALTER COLUMN <nome_da_coluna> <tipo_da_coluna>;\n",
    "```"
   ]
  },
  {
   "cell_type": "markdown",
   "id": "877a2015",
   "metadata": {
    "id": "j5DnEANtAre3",
    "papermill": {
     "duration": 0.035457,
     "end_time": "2024-10-30T19:17:59.601397",
     "exception": false,
     "start_time": "2024-10-30T19:17:59.565940",
     "status": "completed"
    },
    "tags": []
   },
   "source": [
    "Query 2: Alterar tipo da coluna `valor` na tabela `transacoes` para 'DOUBLE'"
   ]
  },
  {
   "cell_type": "markdown",
   "id": "89b91180",
   "metadata": {
    "id": "YyHf8sryAr3Y",
    "papermill": {
     "duration": 0.03549,
     "end_time": "2024-10-30T19:17:59.672261",
     "exception": false,
     "start_time": "2024-10-30T19:17:59.636771",
     "status": "completed"
    },
    "tags": []
   },
   "source": [
    "```sql\n",
    "ALTER TABLE transacoes\n",
    "ALTER COLUMN valor DOUBLE;\n",
    "```"
   ]
  },
  {
   "cell_type": "markdown",
   "id": "dcfd5751",
   "metadata": {
    "id": "Ock0DAXQBfAd",
    "papermill": {
     "duration": 0.034854,
     "end_time": "2024-10-30T19:17:59.742501",
     "exception": false,
     "start_time": "2024-10-30T19:17:59.707647",
     "status": "completed"
    },
    "tags": []
   },
   "source": [
    "**Importante:** alter column é o comando do padrão do SQL Server/MS Access. Caso utilize outras ferramentas, como mySQL/Oracle ou Oracle 10G, utilize MODIFY COLUMN ou MODIFY respectivamente.\n",
    "\n",
    "Cada framework funciona de uma maneira, mas em geral, as mudanças são pequenas! Veremos também o exemplo da AWS Athena nos exercícios."
   ]
  },
  {
   "cell_type": "markdown",
   "id": "04f4a883",
   "metadata": {
    "id": "wSL3hsj8EZAD",
    "papermill": {
     "duration": 0.034907,
     "end_time": "2024-10-30T19:17:59.812702",
     "exception": false,
     "start_time": "2024-10-30T19:17:59.777795",
     "status": "completed"
    },
    "tags": []
   },
   "source": [
    "**Para deletar uma coluna:**"
   ]
  },
  {
   "cell_type": "markdown",
   "id": "873d7b87",
   "metadata": {
    "id": "MgwFh-y0EilU",
    "papermill": {
     "duration": 0.03523,
     "end_time": "2024-10-30T19:17:59.883348",
     "exception": false,
     "start_time": "2024-10-30T19:17:59.848118",
     "status": "completed"
    },
    "tags": []
   },
   "source": [
    "```sql\n",
    "ALTER TABLE <nome_da_tabela>\n",
    "DROP COLUMN <nome_da_coluna>;\n",
    "```"
   ]
  },
  {
   "cell_type": "markdown",
   "id": "79a3945f",
   "metadata": {
    "id": "kVS7JUnNCqwU",
    "papermill": {
     "duration": 0.035102,
     "end_time": "2024-10-30T19:17:59.954207",
     "exception": false,
     "start_time": "2024-10-30T19:17:59.919105",
     "status": "completed"
    },
    "tags": []
   },
   "source": [
    "Query 3: Deletar coluna `id_cliente` na tabela `transacoes`\n"
   ]
  },
  {
   "cell_type": "markdown",
   "id": "d38f3dc3",
   "metadata": {
    "id": "nJ7CmTSTComE",
    "papermill": {
     "duration": 0.035568,
     "end_time": "2024-10-30T19:18:00.025297",
     "exception": false,
     "start_time": "2024-10-30T19:17:59.989729",
     "status": "completed"
    },
    "tags": []
   },
   "source": [
    "```sql\n",
    "ALTER TABLE transacoes\n",
    "DROP COLUMN id_cliente;\n",
    "```"
   ]
  },
  {
   "cell_type": "markdown",
   "id": "b76f6562",
   "metadata": {
    "id": "sV1otxQVhcaA",
    "papermill": {
     "duration": 0.036031,
     "end_time": "2024-10-30T19:18:00.096951",
     "exception": false,
     "start_time": "2024-10-30T19:18:00.060920",
     "status": "completed"
    },
    "tags": []
   },
   "source": [
    "### **2.2. Comando DROP TABLE** "
   ]
  },
  {
   "cell_type": "markdown",
   "id": "b19e7a42",
   "metadata": {
    "id": "xH5R9yQDC3kD",
    "papermill": {
     "duration": 0.035298,
     "end_time": "2024-10-30T19:18:00.167766",
     "exception": false,
     "start_time": "2024-10-30T19:18:00.132468",
     "status": "completed"
    },
    "tags": []
   },
   "source": [
    "Esse comando remove uma tabela completamente do seu banco de dados."
   ]
  },
  {
   "cell_type": "markdown",
   "id": "4709f028",
   "metadata": {
    "id": "8hZ3XTwIJs9e",
    "papermill": {
     "duration": 0.034966,
     "end_time": "2024-10-30T19:18:00.238314",
     "exception": false,
     "start_time": "2024-10-30T19:18:00.203348",
     "status": "completed"
    },
    "tags": []
   },
   "source": [
    "```sql\n",
    "DROP TABLE <nome_da_tabela>;\n",
    "```"
   ]
  },
  {
   "cell_type": "markdown",
   "id": "f8a59744",
   "metadata": {
    "id": "Fde_pKuuDFN9",
    "papermill": {
     "duration": 0.034681,
     "end_time": "2024-10-30T19:18:00.308060",
     "exception": false,
     "start_time": "2024-10-30T19:18:00.273379",
     "status": "completed"
    },
    "tags": []
   },
   "source": [
    "No comando SQL: "
   ]
  },
  {
   "cell_type": "markdown",
   "id": "344022bb",
   "metadata": {
    "id": "RZi-sjuUDFg2",
    "papermill": {
     "duration": 0.034884,
     "end_time": "2024-10-30T19:18:00.377995",
     "exception": false,
     "start_time": "2024-10-30T19:18:00.343111",
     "status": "completed"
    },
    "tags": []
   },
   "source": [
    "```sql\n",
    "DROP TABLE transacoes;\n",
    "```"
   ]
  },
  {
   "cell_type": "markdown",
   "id": "7cd448e8",
   "metadata": {
    "id": "ZtOHwcxEaGGp",
    "papermill": {
     "duration": 0.034977,
     "end_time": "2024-10-30T19:18:00.448168",
     "exception": false,
     "start_time": "2024-10-30T19:18:00.413191",
     "status": "completed"
    },
    "tags": []
   },
   "source": [
    "## 3\\. Inserindo, atualizando e apagando dados"
   ]
  },
  {
   "cell_type": "markdown",
   "id": "b9b173b7",
   "metadata": {
    "id": "w3SQ9phkRxS0",
    "papermill": {
     "duration": 0.034866,
     "end_time": "2024-10-30T19:18:00.519343",
     "exception": false,
     "start_time": "2024-10-30T19:18:00.484477",
     "status": "completed"
    },
    "tags": []
   },
   "source": [
    "### **3.1. Comando SELECT** "
   ]
  },
  {
   "cell_type": "markdown",
   "id": "12095f33",
   "metadata": {
    "id": "QC-fpTLYf8H_",
    "papermill": {
     "duration": 0.034927,
     "end_time": "2024-10-30T19:18:00.589566",
     "exception": false,
     "start_time": "2024-10-30T19:18:00.554639",
     "status": "completed"
    },
    "tags": []
   },
   "source": [
    "Para visualizar todos os dados da tabela, utilize asterisco (*):\n",
    "```sql\n",
    "SELECT * FROM <nome_tabela>;\n",
    "```"
   ]
  },
  {
   "cell_type": "markdown",
   "id": "7281a48a",
   "metadata": {
    "id": "FsRdfaOsShwj",
    "papermill": {
     "duration": 0.034921,
     "end_time": "2024-10-30T19:18:00.659702",
     "exception": false,
     "start_time": "2024-10-30T19:18:00.624781",
     "status": "completed"
    },
    "tags": []
   },
   "source": [
    "Para visualizar colunas específicas da tabela:\n",
    "```sql\n",
    "SELECT <nome_coluna_1>,<nome_coluna_2> FROM <nome_tabela>;\n",
    "```"
   ]
  },
  {
   "cell_type": "markdown",
   "id": "f6357eba",
   "metadata": {
    "id": "ZjwHJnl1eYzN",
    "papermill": {
     "duration": 0.035086,
     "end_time": "2024-10-30T19:18:00.730504",
     "exception": false,
     "start_time": "2024-10-30T19:18:00.695418",
     "status": "completed"
    },
    "tags": []
   },
   "source": [
    "**Query 1:** Selecionar todos os dados da tabela `clientes`."
   ]
  },
  {
   "cell_type": "markdown",
   "id": "a08a19f5",
   "metadata": {
    "id": "OXK6MyQrd-cC",
    "papermill": {
     "duration": 0.035031,
     "end_time": "2024-10-30T19:18:00.800414",
     "exception": false,
     "start_time": "2024-10-30T19:18:00.765383",
     "status": "completed"
    },
    "tags": []
   },
   "source": [
    "```sql\n",
    "SELECT * FROM clientes;\n",
    "```"
   ]
  },
  {
   "cell_type": "markdown",
   "id": "0a5ae102",
   "metadata": {
    "id": "ubiOD7fyNB9t",
    "papermill": {
     "duration": 0.034971,
     "end_time": "2024-10-30T19:18:00.870335",
     "exception": false,
     "start_time": "2024-10-30T19:18:00.835364",
     "status": "completed"
    },
    "tags": []
   },
   "source": [
    "| id        | idade | sexo | dependentes | escolaridade | tipo_cartao | limite_credito | valor_transacoes_12m | qtd_transacoes_12m |\n",
    "|-----------|-------|------|---|--------------|-|----------------|----------|----|\n",
    "| 768805383 | 45    | M    | 3 | ensino medio | blue | 12.691,51      | 1.144,90 | 42 |\n",
    "| 818770008 | 49    | F    | 5 | mestrado     | blue | 8.256,96      | 1.291,45 | 33 |\n",
    "| 713982108 | 51    | M    | 3 | mestrado     | blue | 3.418,56      | 1.887,72 | 20 |"
   ]
  },
  {
   "cell_type": "markdown",
   "id": "341967b1",
   "metadata": {
    "id": "s_Dj-BgThLg5",
    "papermill": {
     "duration": 0.035032,
     "end_time": "2024-10-30T19:18:00.940505",
     "exception": false,
     "start_time": "2024-10-30T19:18:00.905473",
     "status": "completed"
    },
    "tags": []
   },
   "source": [
    "### **3.2. Comando INSERT** "
   ]
  },
  {
   "cell_type": "markdown",
   "id": "944cb2aa",
   "metadata": {
    "id": "-WX56uZlEVEb",
    "papermill": {
     "duration": 0.035106,
     "end_time": "2024-10-30T19:18:01.011150",
     "exception": false,
     "start_time": "2024-10-30T19:18:00.976044",
     "status": "completed"
    },
    "tags": []
   },
   "source": [
    "```sql\n",
    "INSERT INTO <nome_da_tabela> VALUES (<valor_1>,<valor_2>);\n",
    "```"
   ]
  },
  {
   "cell_type": "markdown",
   "id": "2e9ca7ad",
   "metadata": {
    "id": "Ly2dlZejedI8",
    "papermill": {
     "duration": 0.035324,
     "end_time": "2024-10-30T19:18:01.082214",
     "exception": false,
     "start_time": "2024-10-30T19:18:01.046890",
     "status": "completed"
    },
    "tags": []
   },
   "source": [
    "**Query 1:** Inserir os dados na tabela de `transacoes`.\n",
    "\n"
   ]
  },
  {
   "cell_type": "markdown",
   "id": "d08d6a1b",
   "metadata": {
    "id": "FNYhrIPqedI9",
    "papermill": {
     "duration": 0.035157,
     "end_time": "2024-10-30T19:18:01.153091",
     "exception": false,
     "start_time": "2024-10-30T19:18:01.117934",
     "status": "completed"
    },
    "tags": []
   },
   "source": [
    "```sql\n",
    "INSERT INTO transacoes VALUES (1,768805383,2021-06-10,50.74,'magalu');\n",
    "INSERT INTO transacoes VALUES (2,768805399,2021-06-13,30.90,'giraffas');\n",
    "INSERT INTO transacoes VALUES (3,818770008,2021-06-05,110.00,'postoshell');\n",
    "```"
   ]
  },
  {
   "cell_type": "markdown",
   "id": "3141b8d2",
   "metadata": {
    "id": "YrLajEHaYc--",
    "papermill": {
     "duration": 0.035051,
     "end_time": "2024-10-30T19:18:01.223536",
     "exception": false,
     "start_time": "2024-10-30T19:18:01.188485",
     "status": "completed"
    },
    "tags": []
   },
   "source": [
    "| id_transacao | id_cliente | data_compra |valor | id_loja |\n",
    "|------------|----------|----|-----| ------- |\n",
    "| 1| 768805383    | 2021-06-10    | 50.74 |magalu \n",
    "| 2 | 768805399    | 2021-06-13    |  30.90 | giraffas \n",
    "| 3 | 818770008    |2021-06-05   |  110.00 |  postoshell    "
   ]
  },
  {
   "cell_type": "markdown",
   "id": "2b61aa76",
   "metadata": {
    "id": "tkc8mssVQxvL",
    "papermill": {
     "duration": 0.034804,
     "end_time": "2024-10-30T19:18:01.293563",
     "exception": false,
     "start_time": "2024-10-30T19:18:01.258759",
     "status": "completed"
    },
    "tags": []
   },
   "source": [
    "### **3.3. Comando UPDATE** "
   ]
  },
  {
   "cell_type": "markdown",
   "id": "e617aa01",
   "metadata": {
    "id": "HIOrHXf_OrPV",
    "papermill": {
     "duration": 0.035016,
     "end_time": "2024-10-30T19:18:01.363889",
     "exception": false,
     "start_time": "2024-10-30T19:18:01.328873",
     "status": "completed"
    },
    "tags": []
   },
   "source": [
    "```sql\n",
    "UPDATE <nome_da_tabela>\n",
    "SET <coluna_1> = <valor_1>, <coluna_2> = <valor_2>, ...\n",
    "WHERE <condição>;\n",
    "```"
   ]
  },
  {
   "cell_type": "markdown",
   "id": "0776d136",
   "metadata": {
    "id": "fxc8xu0SaGgo",
    "papermill": {
     "duration": 0.035008,
     "end_time": "2024-10-30T19:18:01.434097",
     "exception": false,
     "start_time": "2024-10-30T19:18:01.399089",
     "status": "completed"
    },
    "tags": []
   },
   "source": [
    "Importante: caso você não utilize a comando WHERE todos os valores serão alterados!"
   ]
  },
  {
   "cell_type": "markdown",
   "id": "bb68adb4",
   "metadata": {
    "id": "TYC7I8ZlO88l",
    "papermill": {
     "duration": 0.035062,
     "end_time": "2024-10-30T19:18:01.505565",
     "exception": false,
     "start_time": "2024-10-30T19:18:01.470503",
     "status": "completed"
    },
    "tags": []
   },
   "source": [
    "**Query 1:** Atualizar o valor da compra com id =  `818770008`. "
   ]
  },
  {
   "cell_type": "markdown",
   "id": "b425633c",
   "metadata": {
    "id": "jxzYZOvvO_l1",
    "papermill": {
     "duration": 0.035264,
     "end_time": "2024-10-30T19:18:01.575955",
     "exception": false,
     "start_time": "2024-10-30T19:18:01.540691",
     "status": "completed"
    },
    "tags": []
   },
   "source": [
    "```sql\n",
    "UPDATE transacoes\n",
    "SET valor = 250.30\n",
    "WHERE id = 818770008;\n",
    "```"
   ]
  },
  {
   "cell_type": "markdown",
   "id": "02831099",
   "metadata": {
    "id": "5Auu6l_Lavwj",
    "papermill": {
     "duration": 0.035118,
     "end_time": "2024-10-30T19:18:01.646466",
     "exception": false,
     "start_time": "2024-10-30T19:18:01.611348",
     "status": "completed"
    },
    "tags": []
   },
   "source": [
    "| id_transacao | id_cliente | data_compra |valor | id_loja |\n",
    "|------------|----------|----|-----| ------- |\n",
    "| 1| 768805383    | 2021-06-10    | 50.74 |magalu \n",
    "| 2 | 768805399    | 2021-06-13    |  30.90 | giraffas \n",
    "| 3 | 818770008    |2021-06-05   |  **250.30** |  postoshell    \n",
    "\n"
   ]
  },
  {
   "cell_type": "markdown",
   "id": "24557dce",
   "metadata": {
    "id": "vECGC45aQy1i",
    "papermill": {
     "duration": 0.035397,
     "end_time": "2024-10-30T19:18:01.717090",
     "exception": false,
     "start_time": "2024-10-30T19:18:01.681693",
     "status": "completed"
    },
    "tags": []
   },
   "source": [
    "### **3.3. Comando DELETE** "
   ]
  },
  {
   "cell_type": "markdown",
   "id": "ed796c85",
   "metadata": {
    "id": "CroV2tJJRAzM",
    "papermill": {
     "duration": 0.035085,
     "end_time": "2024-10-30T19:18:01.787375",
     "exception": false,
     "start_time": "2024-10-30T19:18:01.752290",
     "status": "completed"
    },
    "tags": []
   },
   "source": [
    "```sql\n",
    "DELETE FROM <nome_da_tabela> WHERE <condição>;\n",
    "```"
   ]
  },
  {
   "cell_type": "markdown",
   "id": "f70793ea",
   "metadata": {
    "id": "-goFDY58wTgo",
    "papermill": {
     "duration": 0.035138,
     "end_time": "2024-10-30T19:18:01.857823",
     "exception": false,
     "start_time": "2024-10-30T19:18:01.822685",
     "status": "completed"
    },
    "tags": []
   },
   "source": [
    "**Query 1:** Remover os dados do cliente 768805383 na tabela de transações\n",
    "\n"
   ]
  },
  {
   "cell_type": "markdown",
   "id": "b8eba067",
   "metadata": {
    "id": "LJoXJ4_nwIPz",
    "papermill": {
     "duration": 0.034913,
     "end_time": "2024-10-30T19:18:01.927993",
     "exception": false,
     "start_time": "2024-10-30T19:18:01.893080",
     "status": "completed"
    },
    "tags": []
   },
   "source": [
    "```sql\n",
    "DELETE FROM transacoes WHERE id_cliente = 768805383;\n",
    "```"
   ]
  },
  {
   "cell_type": "markdown",
   "id": "898eec13",
   "metadata": {
    "id": "MXlWQszbbTyi",
    "papermill": {
     "duration": 0.035149,
     "end_time": "2024-10-30T19:18:01.998304",
     "exception": false,
     "start_time": "2024-10-30T19:18:01.963155",
     "status": "completed"
    },
    "tags": []
   },
   "source": [
    "| id_transacao | id_cliente | data_compra |valor | id_loja |\n",
    "|------------|----------|----|-----| ------- |\n",
    "| 2 | 768805399    | 2021-06-13    |  30.90 | giraffas \n",
    "| 3 | 818770008    |2021-06-05   |  **250.30** |  postoshell    "
   ]
  },
  {
   "cell_type": "code",
   "execution_count": null,
   "id": "a40cb3c8",
   "metadata": {
    "id": "aDfWVnF2bTTZ",
    "papermill": {
     "duration": 0.035088,
     "end_time": "2024-10-30T19:18:02.068564",
     "exception": false,
     "start_time": "2024-10-30T19:18:02.033476",
     "status": "completed"
    },
    "tags": []
   },
   "outputs": [],
   "source": []
  },
  {
   "cell_type": "markdown",
   "id": "ebcd4d00",
   "metadata": {
    "id": "KJqp9AANOCtf",
    "papermill": {
     "duration": 0.03498,
     "end_time": "2024-10-30T19:18:02.138899",
     "exception": false,
     "start_time": "2024-10-30T19:18:02.103919",
     "status": "completed"
    },
    "tags": []
   },
   "source": [
    "<img src=\"https://raw.githubusercontent.com/andre-marcos-perez/ebac-course-utils/main/media/logo/newebac_logo_black_half.png\" alt=\"ebac-logo\">\n",
    "\n",
    "---\n",
    "\n",
    "# **Módulo 03** | SQL: Selecionando & Ordenando\n",
    "Caderno de **Aula**<br> \n",
    "Professor [Mariane Neiva](www.linkedin.com/in/mariane-neiva)\n",
    "\n",
    "---"
   ]
  },
  {
   "cell_type": "markdown",
   "id": "d0938c21",
   "metadata": {
    "id": "d9jDtUbDOE1-",
    "papermill": {
     "duration": 0.035172,
     "end_time": "2024-10-30T19:18:02.209622",
     "exception": false,
     "start_time": "2024-10-30T19:18:02.174450",
     "status": "completed"
    },
    "tags": []
   },
   "source": [
    "# **Tópicos**\n",
    "\n",
    "<ol type=\"1\">\n",
    "  <li>Restrição de colunas;</li>\n",
    "  <li>Selecionando dados;</li>\n",
    "  <li>Ordenando e limitando os resultados;</li>\n",
    "</ol>"
   ]
  },
  {
   "cell_type": "markdown",
   "id": "d27123ff",
   "metadata": {
    "id": "SmoHgt-lwkpD",
    "papermill": {
     "duration": 0.035008,
     "end_time": "2024-10-30T19:18:02.280083",
     "exception": false,
     "start_time": "2024-10-30T19:18:02.245075",
     "status": "completed"
    },
    "tags": []
   },
   "source": [
    "---"
   ]
  },
  {
   "cell_type": "markdown",
   "id": "d6592d7e",
   "metadata": {
    "id": "GABI6OW8OfQ2",
    "papermill": {
     "duration": 0.034807,
     "end_time": "2024-10-30T19:18:02.350161",
     "exception": false,
     "start_time": "2024-10-30T19:18:02.315354",
     "status": "completed"
    },
    "tags": []
   },
   "source": [
    "# **Aulas**"
   ]
  },
  {
   "cell_type": "markdown",
   "id": "2ac563f0",
   "metadata": {
    "id": "NF7Pdc6hJ8oF",
    "papermill": {
     "duration": 0.034955,
     "end_time": "2024-10-30T19:18:02.420431",
     "exception": false,
     "start_time": "2024-10-30T19:18:02.385476",
     "status": "completed"
    },
    "tags": []
   },
   "source": [
    "Nessa aula, usaremos a seguinte tabela:"
   ]
  },
  {
   "cell_type": "markdown",
   "id": "2d3e5f68",
   "metadata": {
    "id": "QkH5jQruJG-L",
    "papermill": {
     "duration": 0.037008,
     "end_time": "2024-10-30T19:18:02.492792",
     "exception": false,
     "start_time": "2024-10-30T19:18:02.455784",
     "status": "completed"
    },
    "tags": []
   },
   "source": [
    "```sql\n",
    "CREATE TABLE transacoes (  \n",
    "  id_cliente INT, \n",
    "  id_transacao INT,\n",
    "  data_compra DATE,\n",
    "  valor FLOAT, \n",
    "  id_loja varchar(25)\n",
    ");\n",
    "```"
   ]
  },
  {
   "cell_type": "markdown",
   "id": "eba3fc37",
   "metadata": {
    "id": "MLdOjQcDKCXc",
    "papermill": {
     "duration": 0.034993,
     "end_time": "2024-10-30T19:18:02.562954",
     "exception": false,
     "start_time": "2024-10-30T19:18:02.527961",
     "status": "completed"
    },
    "tags": []
   },
   "source": [
    "Também temos os seguintes valores inseridos na tabela"
   ]
  },
  {
   "cell_type": "markdown",
   "id": "905b0e86",
   "metadata": {
    "id": "I34tqzZrKOma",
    "papermill": {
     "duration": 0.035317,
     "end_time": "2024-10-30T19:18:02.633520",
     "exception": false,
     "start_time": "2024-10-30T19:18:02.598203",
     "status": "completed"
    },
    "tags": []
   },
   "source": [
    "```sql\n",
    "INSERT INTO transacoes VALUES (1,768805383,2021-06-10,50.74,'magalu');\n",
    "INSERT INTO transacoes VALUES (2,768805399,2021-06-13,30.90,'giraffas');\n",
    "INSERT INTO transacoes VALUES (3,818770008,2021-06-05,110.00,'postoshell');\n",
    "INSERT INTO transacoes VALUES (1,76856563,2021-07-10,2000.90,'magalu');\n",
    "INSERT INTO transacoes VALUES (1,767573759,2021-06-20,15.70,'subway');\n",
    "INSERT INTO transacoes VALUES (3,818575758,2021-06-25,2.99,'seveneleven');\n",
    "INSERT INTO transacoes VALUES (4,764545534,2021-07-11,50.74,'extra');\n",
    "INSERT INTO transacoes VALUES (5,76766789,2021-08-02,10.00,'subway');\n",
    "INSERT INTO transacoes VALUES (3,8154567758,2021-08-15,1100.00,'shopee');\n",
    "```"
   ]
  },
  {
   "cell_type": "markdown",
   "id": "2bf89c02",
   "metadata": {
    "id": "rRBLidUaK7NJ",
    "papermill": {
     "duration": 0.034885,
     "end_time": "2024-10-30T19:18:02.703647",
     "exception": false,
     "start_time": "2024-10-30T19:18:02.668762",
     "status": "completed"
    },
    "tags": []
   },
   "source": [
    "Como resultado da função SELECT, temos a seguinte tabela:\n",
    "\n",
    "| id_cliente | id_transacao | data_compra |valor | id_loja |\n",
    "|------------|----------|----|-----| ------- |\n",
    "| 1| 768805383    | 2021-06-10    | 50.74 |magalu \n",
    "| 2 | 768805399    | 2021-06-13    |  30.90 | giraffas \n",
    "| 3 | 818770008    |2021-06-05   |  110.00 |  postoshell  \n",
    "|1 |76856563 | 2021-07-10 |2000.90 |magalu\n",
    "|1|767573759|2021-06-20|15.70|subway\n",
    "| 3|818575758|2021-06-25|2.99|seveneleven\n",
    " |4|764545534|2021-07-10|50.74|extra\n",
    "|5|76766789|2021-08-92|10.00|subway\n",
    "|3|8154567758|2021-08-15|1100.00|shopee \n",
    "\n",
    "Para realizar os testes no SQL, [clique aqui](https://sqliteonline.com/)"
   ]
  },
  {
   "cell_type": "markdown",
   "id": "d4d49a56",
   "metadata": {
    "id": "ok889VghEyKq",
    "papermill": {
     "duration": 0.034934,
     "end_time": "2024-10-30T19:18:02.774150",
     "exception": false,
     "start_time": "2024-10-30T19:18:02.739216",
     "status": "completed"
    },
    "tags": []
   },
   "source": [
    "#1. Restrição de colunas\n",
    "\n"
   ]
  },
  {
   "cell_type": "markdown",
   "id": "0e58b698",
   "metadata": {
    "id": "eqtRcYZgF94g",
    "papermill": {
     "duration": 0.035029,
     "end_time": "2024-10-30T19:18:02.844248",
     "exception": false,
     "start_time": "2024-10-30T19:18:02.809219",
     "status": "completed"
    },
    "tags": []
   },
   "source": [
    "## **1.1 Tipos de chaves**"
   ]
  },
  {
   "cell_type": "markdown",
   "id": "43b0025d",
   "metadata": {
    "id": "7Lw72AUdE1Xk",
    "papermill": {
     "duration": 0.034792,
     "end_time": "2024-10-30T19:18:02.914236",
     "exception": false,
     "start_time": "2024-10-30T19:18:02.879444",
     "status": "completed"
    },
    "tags": []
   },
   "source": [
    "### 1.1.1 Chave primária (PRIMARY KEY)\n",
    "\n",
    "Para identificar uma tabela, podemos utilizar uma chave primária. Existem algumas regras que devem ser respeitadas na coluna designada a ser chave primária:\n",
    "\n",
    "1. O valor da coluna não pode se repetir na tabela\n",
    "2. O valor da coluna não pode ser nulo\n",
    "\n",
    "Você pode utilizar a chave primária de uma tabela para identificar uma instância em outra tabela. "
   ]
  },
  {
   "cell_type": "markdown",
   "id": "138cba2b",
   "metadata": {
    "id": "to1BzvRhNml8",
    "papermill": {
     "duration": 0.035177,
     "end_time": "2024-10-30T19:18:02.984496",
     "exception": false,
     "start_time": "2024-10-30T19:18:02.949319",
     "status": "completed"
    },
    "tags": []
   },
   "source": [
    "```sql\n",
    "CREATE TABLE <nome_tabela> (\n",
    "  <nome_da_coluna_primaria> <tipo_da_coluna_primaria> PRIMARY KEY,\n",
    "  <nome_da_coluna_2> <tipo_da_coluna_2>, \n",
    "  ...\n",
    ");\n",
    "```"
   ]
  },
  {
   "cell_type": "markdown",
   "id": "981f93d1",
   "metadata": {
    "id": "5geFfCGFOAHP",
    "papermill": {
     "duration": 0.035129,
     "end_time": "2024-10-30T19:18:03.054957",
     "exception": false,
     "start_time": "2024-10-30T19:18:03.019828",
     "status": "completed"
    },
    "tags": []
   },
   "source": [
    "No exemplo, podemos colocar a chave primeira como o **id_transacao**, já que toda transação deve ser única (indice não se repete) e não nula (não pode existir um valor de transação que não foi preenchido):\n"
   ]
  },
  {
   "cell_type": "markdown",
   "id": "a4921161",
   "metadata": {
    "id": "WIlOQQf_OZSQ",
    "papermill": {
     "duration": 0.035024,
     "end_time": "2024-10-30T19:18:03.125372",
     "exception": false,
     "start_time": "2024-10-30T19:18:03.090348",
     "status": "completed"
    },
    "tags": []
   },
   "source": [
    "```sql\n",
    "CREATE TABLE transacoes (\n",
    "  id_cliente INT, \n",
    "  id_transacao INT PRIMARY KEY,\n",
    "  data_compra DATE,\n",
    "  valor FLOAT, \n",
    "  id_loja varchar(25)\n",
    ");\n",
    "```"
   ]
  },
  {
   "cell_type": "markdown",
   "id": "dde1ff2b",
   "metadata": {
    "id": "YAQ4T5LFOegA",
    "papermill": {
     "duration": 0.035615,
     "end_time": "2024-10-30T19:18:03.196232",
     "exception": false,
     "start_time": "2024-10-30T19:18:03.160617",
     "status": "completed"
    },
    "tags": []
   },
   "source": [
    "> Atenção: existe a opção de utilizar o AUTO_INCREMENT para que o valor de id_transacao seja automaticamente adicionado de 1 a cada nova transação no banco de dados. Entenda mais clicando [aqui](https://www.w3schools.com/sql/sql_autoincrement.asp)."
   ]
  },
  {
   "cell_type": "markdown",
   "id": "b4691da4",
   "metadata": {
    "id": "IgElXkVXE429",
    "papermill": {
     "duration": 0.035037,
     "end_time": "2024-10-30T19:18:03.266678",
     "exception": false,
     "start_time": "2024-10-30T19:18:03.231641",
     "status": "completed"
    },
    "tags": []
   },
   "source": [
    "### 1.1.2. Chave estrangeira (FOREIGN KEY)\n",
    "\n",
    "Quando queremos relacionar duas tabelas, utilizamos a chave estrangeira. Isso significa que uma coluna na tabela atual, está relaciona com alguma instância de outra tabela. No exemplo para o MySQL:\n",
    "\n",
    "\n"
   ]
  },
  {
   "cell_type": "markdown",
   "id": "0a5f34b2",
   "metadata": {
    "id": "Sdq3Bh6VUTV6",
    "papermill": {
     "duration": 0.03512,
     "end_time": "2024-10-30T19:18:03.337144",
     "exception": false,
     "start_time": "2024-10-30T19:18:03.302024",
     "status": "completed"
    },
    "tags": []
   },
   "source": [
    "```sql\n",
    "CREATE TABLE <nome_tabela> (\n",
    "  <nome_da_coluna> <tipo_da_coluna>, \n",
    "  <nome_da_coluna> <tipo_da_coluna>, \n",
    "  ...,\n",
    "  <nome_da_coluna> <tipo_da_coluna>, \n",
    "  \n",
    "  FOREIGN KEY <nome_da_coluna> REFERENCES <nome_tabela_da_chave_relacionada>(<nome_da_coluna_na_tabela_relacionada>)\n",
    ");\n",
    "```"
   ]
  },
  {
   "cell_type": "markdown",
   "id": "3bcd6730",
   "metadata": {
    "id": "X2mWxvO4UZ8g",
    "papermill": {
     "duration": 0.035238,
     "end_time": "2024-10-30T19:18:03.407885",
     "exception": false,
     "start_time": "2024-10-30T19:18:03.372647",
     "status": "completed"
    },
    "tags": []
   },
   "source": [
    "**Exemplo**: Na nossa tabela transações, faz sentido ter a chave primária como **id_transacoes** como fizemos anteriormente e deixar a chave estrangeira como o **id_cliente**. Isso porque, deve existir uma tabela clientes onde esse **id_cliente** é a chave primeira. "
   ]
  },
  {
   "cell_type": "markdown",
   "id": "93ab2992",
   "metadata": {
    "id": "9gK5t6PPVtpT",
    "papermill": {
     "duration": 0.036592,
     "end_time": "2024-10-30T19:18:03.479997",
     "exception": false,
     "start_time": "2024-10-30T19:18:03.443405",
     "status": "completed"
    },
    "tags": []
   },
   "source": [
    "```sql\n",
    "CREATE TABLE transacoes(\n",
    "  id_cliente INT,\n",
    "  id_transacao INT PRIMARY KEY,   \n",
    "  data_compra DATE,\n",
    "  valor FLOAT, \n",
    "  id_loja varchar(25),\n",
    "  FOREIGN KEY (id_cliente) REFERENCES clientes(id_cliente)\n",
    ");\n",
    "```"
   ]
  },
  {
   "cell_type": "markdown",
   "id": "a182d4e7",
   "metadata": {
    "id": "-0aFBjkrWEc0",
    "papermill": {
     "duration": 0.035091,
     "end_time": "2024-10-30T19:18:03.550564",
     "exception": false,
     "start_time": "2024-10-30T19:18:03.515473",
     "status": "completed"
    },
    "tags": []
   },
   "source": [
    "**Atenção:** Não há alteração visual quando adicionamos primary key ou foreign key na tabela. Por isso não mostraremos o resultado aqui. \n",
    "\n",
    "> Mais informações e outros formatos: [clique aqui](https://www.w3schools.com/sql/sql_foreignkey.asp)"
   ]
  },
  {
   "cell_type": "markdown",
   "id": "168213ae",
   "metadata": {
    "id": "RJaiLiVwGKVN",
    "papermill": {
     "duration": 0.035006,
     "end_time": "2024-10-30T19:18:03.620910",
     "exception": false,
     "start_time": "2024-10-30T19:18:03.585904",
     "status": "completed"
    },
    "tags": []
   },
   "source": [
    "## **1.2. Tipos de restrições**\n",
    "\n",
    "Algumas regras podem ser estabelecidas aos dados da sua tabela. Definindo-as na hora da criação da tabela, garantirá segurança na inserção dos dados. Veremos algumas nessa aula."
   ]
  },
  {
   "cell_type": "markdown",
   "id": "97117b11",
   "metadata": {
    "id": "isokYYxeE85o",
    "papermill": {
     "duration": 0.035118,
     "end_time": "2024-10-30T19:18:03.691657",
     "exception": false,
     "start_time": "2024-10-30T19:18:03.656539",
     "status": "completed"
    },
    "tags": []
   },
   "source": [
    "### 1.2.1 Valores não nulos (NOT NULL)\n",
    "\n",
    "Define que os valores da coluna não podem ser nulos.\n",
    "\n",
    "```sql\n",
    "CREATE TABLE <nome_tabela> (\n",
    "  <nome_da_coluna> <tipo_da_coluna> NOT NULL ,\n",
    "  <nome_da_coluna_2> <tipo_da_coluna_2> , \n",
    "  ...\n",
    ");\n",
    "```\n"
   ]
  },
  {
   "cell_type": "markdown",
   "id": "b7af6b4e",
   "metadata": {
    "id": "68HDlnzWW9rO",
    "papermill": {
     "duration": 0.035173,
     "end_time": "2024-10-30T19:18:03.762564",
     "exception": false,
     "start_time": "2024-10-30T19:18:03.727391",
     "status": "completed"
    },
    "tags": []
   },
   "source": [
    "No nosso exemplo (unindo tudo que já aprendemos):"
   ]
  },
  {
   "cell_type": "markdown",
   "id": "861b1a07",
   "metadata": {
    "id": "e-zfdUFbXHjI",
    "papermill": {
     "duration": 0.035274,
     "end_time": "2024-10-30T19:18:03.835939",
     "exception": false,
     "start_time": "2024-10-30T19:18:03.800665",
     "status": "completed"
    },
    "tags": []
   },
   "source": [
    "```sql\n",
    "CREATE TABLE transacoes (\n",
    "  id_cliente INT,\n",
    "  id_transacao INT PRIMARY KEY,   \n",
    "  data_compra DATE,\n",
    "  valor FLOAT NOT NULL, \n",
    "  id_loja varchar(25),\n",
    "  FOREIGN KEY (id_cliente) REFERENCES clientes(id_cliente)\n",
    ");\n",
    "```"
   ]
  },
  {
   "cell_type": "markdown",
   "id": "9c954d5c",
   "metadata": {
    "id": "1qEfCSp3FMb0",
    "papermill": {
     "duration": 0.03519,
     "end_time": "2024-10-30T19:18:03.906477",
     "exception": false,
     "start_time": "2024-10-30T19:18:03.871287",
     "status": "completed"
    },
    "tags": []
   },
   "source": [
    "### 1.2.2 Valores únicos (UNIQUE)"
   ]
  },
  {
   "cell_type": "markdown",
   "id": "86e050d8",
   "metadata": {
    "id": "GwZOq7JkXXC4",
    "papermill": {
     "duration": 0.035552,
     "end_time": "2024-10-30T19:18:03.977403",
     "exception": false,
     "start_time": "2024-10-30T19:18:03.941851",
     "status": "completed"
    },
    "tags": []
   },
   "source": [
    "Define que os valores da coluna devem ser únicos.\n",
    "\n",
    "```sql\n",
    "CREATE TABLE <nome_tabela> (\n",
    "  <nome_da_coluna> <tipo_da_coluna> UNIQUE ,\n",
    "  <nome_da_coluna_2> <tipo_da_coluna_2> , \n",
    "  ...\n",
    ");\n",
    "```"
   ]
  },
  {
   "cell_type": "markdown",
   "id": "d76f32b2",
   "metadata": {
    "id": "MXZzNA24XhLB",
    "papermill": {
     "duration": 0.035372,
     "end_time": "2024-10-30T19:18:04.048494",
     "exception": false,
     "start_time": "2024-10-30T19:18:04.013122",
     "status": "completed"
    },
    "tags": []
   },
   "source": [
    "No nosso exemplo (unindo tudo que já aprendemos):"
   ]
  },
  {
   "cell_type": "markdown",
   "id": "30c3d4c5",
   "metadata": {
    "id": "y4rItWbfXjaW",
    "papermill": {
     "duration": 0.035356,
     "end_time": "2024-10-30T19:18:04.119619",
     "exception": false,
     "start_time": "2024-10-30T19:18:04.084263",
     "status": "completed"
    },
    "tags": []
   },
   "source": [
    "```sql\n",
    "CREATE TABLE transacoes (\n",
    "  id_cliente INT, \n",
    "  id_transacao INT PRIMARY KEY,\n",
    "  data_compra DATE UNIQUE,\n",
    "  valor FLOAT NOT NULL, \n",
    "  id_loja varchar(25),\n",
    "  FOREIGN KEY (id_cliente) REFERENCES clientes(id_cliente)\n",
    ");\n",
    "```"
   ]
  },
  {
   "cell_type": "markdown",
   "id": "d2b83611",
   "metadata": {
    "id": "kyvCIpVSFSnJ",
    "papermill": {
     "duration": 0.035207,
     "end_time": "2024-10-30T19:18:04.190533",
     "exception": false,
     "start_time": "2024-10-30T19:18:04.155326",
     "status": "completed"
    },
    "tags": []
   },
   "source": [
    "### 1.2.3 Checando restrições (CHECK)\n",
    "\n",
    "Esse comando certifica que algumas condições devem ser satisfeitas ao inserir um dados na tabela.\n",
    "\n",
    "```sql\n",
    "CREATE TABLE <nome_tabela> (\n",
    "  <nome_da_coluna> <tipo_da_coluna>  ,\n",
    "  <nome_da_coluna_2> <tipo_da_coluna_2> , \n",
    "  CHECK (<condicao>)\n",
    "  ...\n",
    ");\n",
    "```"
   ]
  },
  {
   "cell_type": "markdown",
   "id": "e486910d",
   "metadata": {
    "id": "cZiDRv5sYMB2",
    "papermill": {
     "duration": 0.035183,
     "end_time": "2024-10-30T19:18:04.261539",
     "exception": false,
     "start_time": "2024-10-30T19:18:04.226356",
     "status": "completed"
    },
    "tags": []
   },
   "source": [
    "No nosso caso, podemos avaliar se não há valor negativo nas transações:"
   ]
  },
  {
   "cell_type": "markdown",
   "id": "258cfb8f",
   "metadata": {
    "id": "H92wVsxMYQ09",
    "papermill": {
     "duration": 0.034955,
     "end_time": "2024-10-30T19:18:04.331880",
     "exception": false,
     "start_time": "2024-10-30T19:18:04.296925",
     "status": "completed"
    },
    "tags": []
   },
   "source": [
    "```sql\n",
    "CREATE TABLE transacoes (\n",
    "  id_cliente INT,   \n",
    "  id_transacao INT PRIMARY KEY,\n",
    "  data_compra DATE UNIQUE,\n",
    "  valor FLOAT NOT NULL, \n",
    "  id_loja varchar(25),\n",
    "  FOREIGN KEY (id_cliente) REFERENCES clientes(id_cliente)\n",
    "  CHECK (valor > 0) \n",
    ");\n",
    "\n",
    "\n",
    "\n",
    "\n",
    "```"
   ]
  },
  {
   "cell_type": "markdown",
   "id": "642ff842",
   "metadata": {
    "id": "60JJ6w62cr7l",
    "papermill": {
     "duration": 0.034955,
     "end_time": "2024-10-30T19:18:04.402172",
     "exception": false,
     "start_time": "2024-10-30T19:18:04.367217",
     "status": "completed"
    },
    "tags": []
   },
   "source": [
    "**Atenção:** Não há alteração visual quando adicionamos primary key ou foreign key na tabela. Por isso não mostraremos o resultado aqui. \n"
   ]
  },
  {
   "cell_type": "markdown",
   "id": "7a703f2c",
   "metadata": {
    "id": "muD1vxozykSC",
    "papermill": {
     "duration": 0.035297,
     "end_time": "2024-10-30T19:18:04.472806",
     "exception": false,
     "start_time": "2024-10-30T19:18:04.437509",
     "status": "completed"
    },
    "tags": []
   },
   "source": [
    "# 2. Selecionando dados"
   ]
  },
  {
   "cell_type": "markdown",
   "id": "8313fa98",
   "metadata": {
    "id": "5a3_syBIP6yO",
    "papermill": {
     "duration": 0.034917,
     "end_time": "2024-10-30T19:18:04.544577",
     "exception": false,
     "start_time": "2024-10-30T19:18:04.509660",
     "status": "completed"
    },
    "tags": []
   },
   "source": [
    "## **2.1. Comando SELECT** "
   ]
  },
  {
   "cell_type": "markdown",
   "id": "02b45472",
   "metadata": {
    "id": "QC-fpTLYf8H_",
    "papermill": {
     "duration": 0.035358,
     "end_time": "2024-10-30T19:18:04.615231",
     "exception": false,
     "start_time": "2024-10-30T19:18:04.579873",
     "status": "completed"
    },
    "tags": []
   },
   "source": [
    "Para visualizar todos os dados da tabela, utilize asterisco (*):\n",
    "```sql\n",
    "SELECT * FROM <nome_tabela>;\n",
    "```"
   ]
  },
  {
   "cell_type": "markdown",
   "id": "621303d6",
   "metadata": {
    "id": "FsRdfaOsShwj",
    "papermill": {
     "duration": 0.034994,
     "end_time": "2024-10-30T19:18:04.685593",
     "exception": false,
     "start_time": "2024-10-30T19:18:04.650599",
     "status": "completed"
    },
    "tags": []
   },
   "source": [
    "Para visualizar colunas específicas da tabela:\n",
    "```sql\n",
    "SELECT <nome_coluna_1>,<nome_coluna_2> FROM <nome_tabela>;\n",
    "```"
   ]
  },
  {
   "cell_type": "markdown",
   "id": "fe36df83",
   "metadata": {
    "id": "Akc9qo1HYx30",
    "papermill": {
     "duration": 0.035817,
     "end_time": "2024-10-30T19:18:04.756541",
     "exception": false,
     "start_time": "2024-10-30T19:18:04.720724",
     "status": "completed"
    },
    "tags": []
   },
   "source": [
    "Temos visto diversos exemplos durante os módulos 1 e 2. Mas hoje vamos além!"
   ]
  },
  {
   "cell_type": "markdown",
   "id": "b1ff2f32",
   "metadata": {
    "id": "s_Dj-BgThLg5",
    "papermill": {
     "duration": 0.035725,
     "end_time": "2024-10-30T19:18:04.828073",
     "exception": false,
     "start_time": "2024-10-30T19:18:04.792348",
     "status": "completed"
    },
    "tags": []
   },
   "source": [
    "## **2.2. Comando AS** \n",
    "\n",
    "Você pode criar um apelido (*alias*) na hora se mostrar sua coluna com o comando **AS**:\n",
    "\n"
   ]
  },
  {
   "cell_type": "markdown",
   "id": "c53250dc",
   "metadata": {
    "id": "-WX56uZlEVEb",
    "papermill": {
     "duration": 0.035008,
     "end_time": "2024-10-30T19:18:04.898380",
     "exception": false,
     "start_time": "2024-10-30T19:18:04.863372",
     "status": "completed"
    },
    "tags": []
   },
   "source": [
    "```sql\n",
    "SELECT <nome_da_coluna> AS <apelido_para_coluna> FROM <nome_da_tabela>;\n",
    "```\n",
    "\n",
    "ou\n",
    "\n",
    "```sql\n",
    "SELECT <nome_coluna1> AS <apelido_para_coluna1>, <nome_da_coluna2> AS <apelido_para_coluna2> FROM <nome_da_tabela>;\n",
    "```"
   ]
  },
  {
   "cell_type": "markdown",
   "id": "90766faa",
   "metadata": {
    "id": "ZFeplQe4aT2m",
    "papermill": {
     "duration": 0.035103,
     "end_time": "2024-10-30T19:18:04.968900",
     "exception": false,
     "start_time": "2024-10-30T19:18:04.933797",
     "status": "completed"
    },
    "tags": []
   },
   "source": [
    "No nosso exemplo:"
   ]
  },
  {
   "cell_type": "markdown",
   "id": "97e0c0c3",
   "metadata": {
    "id": "6oozDbW-aZHs",
    "papermill": {
     "duration": 0.035262,
     "end_time": "2024-10-30T19:18:05.040051",
     "exception": false,
     "start_time": "2024-10-30T19:18:05.004789",
     "status": "completed"
    },
    "tags": []
   },
   "source": [
    "\n",
    "```sql\n",
    "SELECT id_cliente,id_transacao, data_compra, id_loja AS nome_loja FROM transacoes;\n",
    "```"
   ]
  },
  {
   "cell_type": "markdown",
   "id": "f8b11990",
   "metadata": {
    "id": "OIM6YJl7al5d",
    "papermill": {
     "duration": 0.03499,
     "end_time": "2024-10-30T19:18:05.110859",
     "exception": false,
     "start_time": "2024-10-30T19:18:05.075869",
     "status": "completed"
    },
    "tags": []
   },
   "source": [
    "O resultado da query:"
   ]
  },
  {
   "cell_type": "markdown",
   "id": "08b38b75",
   "metadata": {
    "id": "Tjp2Dfd2aqYa",
    "papermill": {
     "duration": 0.035524,
     "end_time": "2024-10-30T19:18:05.181741",
     "exception": false,
     "start_time": "2024-10-30T19:18:05.146217",
     "status": "completed"
    },
    "tags": []
   },
   "source": [
    "| id_cliente | id_transacao | data_compra |valor | **nome_loja** |\n",
    "|------------|----------|----|-----| ------- |\n",
    "| 1| 768805383    | 2021-06-10    | 50.74 |magalu \n",
    "| 2 | 768805399    | 2021-06-13    |  30.90 | giraffas \n",
    "| 3 | 818770008    |2021-06-05   |  110.00 |  postoshell  \n",
    "|1 |76856563 | 2021-07-10 |2000.90 |magalu\n",
    "|1|767573759|2021-06-20|15.70|subway\n",
    "| 3|818575758|2021-06-25|2.99|seveneleven\n",
    " |4|764545534|2021-07-11|50.74|extra\n",
    "|5|76766789|2021-08-02|10.00|subway\n",
    "|3|8154567758|2021-08-15|1100.00|shopee "
   ]
  },
  {
   "cell_type": "markdown",
   "id": "159a6b3b",
   "metadata": {
    "id": "URjNJfwd7-tw",
    "papermill": {
     "duration": 0.0353,
     "end_time": "2024-10-30T19:18:05.252470",
     "exception": false,
     "start_time": "2024-10-30T19:18:05.217170",
     "status": "completed"
    },
    "tags": []
   },
   "source": [
    "## **2.3 Comando SELECT DISTINCT**\n",
    "\n",
    "Supondo que existam várias lojas (id_loja) diferentes no nosso banco de dados transações, com o uso do select distinct, o SQL só mostra quais são as lojas cadastradas na tabela, sem repetição. \n"
   ]
  },
  {
   "cell_type": "markdown",
   "id": "acdc1d0b",
   "metadata": {
    "id": "em-qyyB28c7I",
    "papermill": {
     "duration": 0.035326,
     "end_time": "2024-10-30T19:18:05.323164",
     "exception": false,
     "start_time": "2024-10-30T19:18:05.287838",
     "status": "completed"
    },
    "tags": []
   },
   "source": [
    "```sql\n",
    "SELECT DISTINCT <nome_da_coluna>  FROM <nome_da_tabela>;\n",
    "```\n"
   ]
  },
  {
   "cell_type": "markdown",
   "id": "9266ebf0",
   "metadata": {
    "id": "wR_GtZYTb6dy",
    "papermill": {
     "duration": 0.035056,
     "end_time": "2024-10-30T19:18:05.393888",
     "exception": false,
     "start_time": "2024-10-30T19:18:05.358832",
     "status": "completed"
    },
    "tags": []
   },
   "source": [
    "No nosso caso:\n",
    "\n",
    "```sql\n",
    "SELECT DISTINCT id_loja AS nome_loja  FROM transacoes;\n",
    "```"
   ]
  },
  {
   "cell_type": "markdown",
   "id": "d5c56636",
   "metadata": {
    "id": "ewqs_Hl9dHAT",
    "papermill": {
     "duration": 0.035126,
     "end_time": "2024-10-30T19:18:05.464357",
     "exception": false,
     "start_time": "2024-10-30T19:18:05.429231",
     "status": "completed"
    },
    "tags": []
   },
   "source": [
    "O resultado:\n",
    "\n"
   ]
  },
  {
   "cell_type": "markdown",
   "id": "ca686a5c",
   "metadata": {
    "id": "JikTCkaWdLg_",
    "papermill": {
     "duration": 0.035067,
     "end_time": "2024-10-30T19:18:05.536652",
     "exception": false,
     "start_time": "2024-10-30T19:18:05.501585",
     "status": "completed"
    },
    "tags": []
   },
   "source": [
    "| nome_loja | \n",
    "| ------- |\n",
    "|magalu| \n",
    "| giraffas| \n",
    " |  postoshell  |\n",
    "|subway|\n",
    "|seveneleven|\n",
    "|extra|\n",
    "|shopee| "
   ]
  },
  {
   "cell_type": "markdown",
   "id": "8e00fc3e",
   "metadata": {
    "id": "zGFzJFUNHP2u",
    "papermill": {
     "duration": 0.034915,
     "end_time": "2024-10-30T19:18:05.607284",
     "exception": false,
     "start_time": "2024-10-30T19:18:05.572369",
     "status": "completed"
    },
    "tags": []
   },
   "source": [
    "# 3. Ordenando e limitando resultados"
   ]
  },
  {
   "cell_type": "markdown",
   "id": "4c2b663e",
   "metadata": {
    "id": "1jIvay1oHT8B",
    "papermill": {
     "duration": 0.035161,
     "end_time": "2024-10-30T19:18:05.678170",
     "exception": false,
     "start_time": "2024-10-30T19:18:05.643009",
     "status": "completed"
    },
    "tags": []
   },
   "source": [
    "## **3.1 Comando ORDER** \n",
    "\n",
    "Na hora de mostrar os resultados, é possível ordena-los de acordo com alguma varíavel(coluna) com a função **ORDER**. "
   ]
  },
  {
   "cell_type": "markdown",
   "id": "b18e040a",
   "metadata": {
    "id": "YGiApwOZZqGq",
    "papermill": {
     "duration": 0.035361,
     "end_time": "2024-10-30T19:18:05.749127",
     "exception": false,
     "start_time": "2024-10-30T19:18:05.713766",
     "status": "completed"
    },
    "tags": []
   },
   "source": [
    "```sql\n",
    "SELECT <coluna1>,... <coluna2>, ...\n",
    "FROM <nome_tabela>\n",
    "ORDER BY <coluna1> ASC|DESC;\n",
    "```"
   ]
  },
  {
   "cell_type": "markdown",
   "id": "f2bc9c7b",
   "metadata": {
    "id": "oPDyBdf6Z5A2",
    "papermill": {
     "duration": 0.034949,
     "end_time": "2024-10-30T19:18:05.819530",
     "exception": false,
     "start_time": "2024-10-30T19:18:05.784581",
     "status": "completed"
    },
    "tags": []
   },
   "source": []
  },
  {
   "cell_type": "markdown",
   "id": "4e54e170",
   "metadata": {
    "id": "UZhZPSMTZ75d",
    "papermill": {
     "duration": 0.035746,
     "end_time": "2024-10-30T19:18:05.890605",
     "exception": false,
     "start_time": "2024-10-30T19:18:05.854859",
     "status": "completed"
    },
    "tags": []
   },
   "source": [
    "```sql\n",
    "SELECT id_cliente, valor \n",
    "FROM transacoes\n",
    "WHERE id_cliente= 1\n",
    "ORDER BY valor DESC;\n",
    "```\n",
    "\n",
    "\n"
   ]
  },
  {
   "cell_type": "markdown",
   "id": "7746d5fa",
   "metadata": {
    "id": "rJ7dutSIaGCn",
    "papermill": {
     "duration": 0.035196,
     "end_time": "2024-10-30T19:18:05.961113",
     "exception": false,
     "start_time": "2024-10-30T19:18:05.925917",
     "status": "completed"
    },
    "tags": []
   },
   "source": [
    "O resultado da query:"
   ]
  },
  {
   "cell_type": "markdown",
   "id": "df35f1f9",
   "metadata": {
    "id": "DcWaCnoTawhh",
    "papermill": {
     "duration": 0.035308,
     "end_time": "2024-10-30T19:18:06.031689",
     "exception": false,
     "start_time": "2024-10-30T19:18:05.996381",
     "status": "completed"
    },
    "tags": []
   },
   "source": [
    "| id_cliente |valor |\n",
    "|------------| ------- |\n",
    "|1 |2000.90 |\n",
    "| 1 | 50.74 |  \n",
    "|1 | 15.70| \n"
   ]
  },
  {
   "cell_type": "markdown",
   "id": "b8aa547d",
   "metadata": {
    "id": "JU03xEfbHnX-",
    "papermill": {
     "duration": 0.035568,
     "end_time": "2024-10-30T19:18:06.103176",
     "exception": false,
     "start_time": "2024-10-30T19:18:06.067608",
     "status": "completed"
    },
    "tags": []
   },
   "source": [
    "## **3.2. Comando LIMIT**\n",
    "\n",
    "Você pode limitar quantas linhas serão mostradas na sua seleção de dados com o comando LIMIT:\n",
    "\n"
   ]
  },
  {
   "cell_type": "markdown",
   "id": "cc15b5c3",
   "metadata": {
    "id": "X3ATucbfa8Gz",
    "papermill": {
     "duration": 0.035125,
     "end_time": "2024-10-30T19:18:06.173746",
     "exception": false,
     "start_time": "2024-10-30T19:18:06.138621",
     "status": "completed"
    },
    "tags": []
   },
   "source": [
    "```sql\n",
    "SELECT <nome_coluna>\n",
    "FROM <nome_tabela>\n",
    "LIMIT <numero_de_linhas>;\n",
    "```\n"
   ]
  },
  {
   "cell_type": "markdown",
   "id": "648d5615",
   "metadata": {
    "id": "yoPZal35bQev",
    "papermill": {
     "duration": 0.034983,
     "end_time": "2024-10-30T19:18:06.244289",
     "exception": false,
     "start_time": "2024-10-30T19:18:06.209306",
     "status": "completed"
    },
    "tags": []
   },
   "source": [
    "No nosso exemplo:\n",
    "\n",
    "```sql\n",
    "SELECT id_transacao, valor \n",
    "FROM transacoes \n",
    "LIMIT 3;\n",
    "```"
   ]
  },
  {
   "cell_type": "markdown",
   "id": "34a9ef16",
   "metadata": {
    "id": "E1XmR40MbT40",
    "papermill": {
     "duration": 0.034947,
     "end_time": "2024-10-30T19:18:06.314487",
     "exception": false,
     "start_time": "2024-10-30T19:18:06.279540",
     "status": "completed"
    },
    "tags": []
   },
   "source": [
    "O resultado: \n",
    "\n",
    " | id_transacao | valor | \n",
    "|------------| ------- |\n",
    "|768805383   | 50.74 |\n",
    " | 768805399     |  30.90 |\n",
    " | 818770008     |  110.00 |   \n",
    "\n"
   ]
  },
  {
   "cell_type": "markdown",
   "id": "379afb24",
   "metadata": {
    "id": "KJqp9AANOCtf",
    "papermill": {
     "duration": 0.034869,
     "end_time": "2024-10-30T19:18:06.384641",
     "exception": false,
     "start_time": "2024-10-30T19:18:06.349772",
     "status": "completed"
    },
    "tags": []
   },
   "source": [
    "<img src=\"https://raw.githubusercontent.com/andre-marcos-perez/ebac-course-utils/main/media/logo/newebac_logo_black_half.png\" alt=\"ebac-logo\">\n",
    "\n",
    "---\n",
    "\n",
    "# **Módulo 04** | SQL: Filtrando & Seleção Condicional\n",
    "Caderno de **Aula**<br> \n",
    "Professor [Mariane Neiva](www.linkedin.com/in/mariane-neiva)\n",
    "\n",
    "---"
   ]
  },
  {
   "cell_type": "markdown",
   "id": "c20f48c1",
   "metadata": {
    "id": "d9jDtUbDOE1-",
    "papermill": {
     "duration": 0.035209,
     "end_time": "2024-10-30T19:18:06.455115",
     "exception": false,
     "start_time": "2024-10-30T19:18:06.419906",
     "status": "completed"
    },
    "tags": []
   },
   "source": [
    "# **Tópicos**\n",
    "\n",
    "<ol type=\"1\">\n",
    "  <li>Filtros and, or, in e between;</li>\n",
    "  <li>Filtros like e wildcards;</li>\n",
    "  <li>Seleção condicional;</li>\n",
    "</ol>"
   ]
  },
  {
   "cell_type": "markdown",
   "id": "18cdf77a",
   "metadata": {
    "id": "SmoHgt-lwkpD",
    "papermill": {
     "duration": 0.035319,
     "end_time": "2024-10-30T19:18:06.527268",
     "exception": false,
     "start_time": "2024-10-30T19:18:06.491949",
     "status": "completed"
    },
    "tags": []
   },
   "source": [
    "---"
   ]
  },
  {
   "cell_type": "markdown",
   "id": "dd816d56",
   "metadata": {
    "id": "GABI6OW8OfQ2",
    "papermill": {
     "duration": 0.034992,
     "end_time": "2024-10-30T19:18:06.597651",
     "exception": false,
     "start_time": "2024-10-30T19:18:06.562659",
     "status": "completed"
    },
    "tags": []
   },
   "source": [
    "# **Aulas**"
   ]
  },
  {
   "cell_type": "markdown",
   "id": "3043aaf2",
   "metadata": {
    "id": "NF7Pdc6hJ8oF",
    "papermill": {
     "duration": 0.035204,
     "end_time": "2024-10-30T19:18:06.668364",
     "exception": false,
     "start_time": "2024-10-30T19:18:06.633160",
     "status": "completed"
    },
    "tags": []
   },
   "source": [
    "Nessa aula, usaremos a seguinte tabela:"
   ]
  },
  {
   "cell_type": "markdown",
   "id": "706d2228",
   "metadata": {
    "id": "QkH5jQruJG-L",
    "papermill": {
     "duration": 0.035138,
     "end_time": "2024-10-30T19:18:06.738791",
     "exception": false,
     "start_time": "2024-10-30T19:18:06.703653",
     "status": "completed"
    },
    "tags": []
   },
   "source": [
    "```sql\n",
    "CREATE TABLE transacoes (\n",
    "  id_cliente INT,   \n",
    "  id_transacao INT PRIMARY KEY,\n",
    "  data_compra DATE UNIQUE,\n",
    "  valor FLOAT NOT NULL, \n",
    "  id_loja varchar(25),\n",
    "  CHECK (valor > 0) \n",
    ");\n",
    "```"
   ]
  },
  {
   "cell_type": "markdown",
   "id": "25e0aa06",
   "metadata": {
    "id": "MLdOjQcDKCXc",
    "papermill": {
     "duration": 0.035181,
     "end_time": "2024-10-30T19:18:06.809815",
     "exception": false,
     "start_time": "2024-10-30T19:18:06.774634",
     "status": "completed"
    },
    "tags": []
   },
   "source": [
    "Também temos os seguintes valores inseridos na tabela"
   ]
  },
  {
   "cell_type": "markdown",
   "id": "8589f29a",
   "metadata": {
    "id": "I34tqzZrKOma",
    "papermill": {
     "duration": 0.035005,
     "end_time": "2024-10-30T19:18:06.880083",
     "exception": false,
     "start_time": "2024-10-30T19:18:06.845078",
     "status": "completed"
    },
    "tags": []
   },
   "source": [
    "```sql\n",
    "INSERT INTO transacoes VALUES (1,768805383,'2021-06-10',50.74,'magalu');\n",
    "INSERT INTO transacoes VALUES (2,768805399,'2021-06-13',30.90,'giraffas');\n",
    "INSERT INTO transacoes VALUES (3,818770008,'2021-06-05',110.00,'postoshell');\n",
    "INSERT INTO transacoes VALUES (1,76856563,'2021-07-10',2000.90,'magalu');\n",
    "INSERT INTO transacoes VALUES (1,767573759,'2021-06-20',15.70,'subway');\n",
    "INSERT INTO transacoes VALUES (3,818575758,'2021-06-25',2.99,'seveneleven');\n",
    "INSERT INTO transacoes VALUES (4,764545534,'2021-07-11',50.74,'extra');\n",
    "INSERT INTO transacoes VALUES (5,76766789,'2021-08-02',10.00,'subway');\n",
    "INSERT INTO transacoes VALUES (3,8154567758,'2021-08-15',1100.00,'shopee');\n",
    "```"
   ]
  },
  {
   "cell_type": "markdown",
   "id": "312eccc2",
   "metadata": {
    "id": "rRBLidUaK7NJ",
    "papermill": {
     "duration": 0.03518,
     "end_time": "2024-10-30T19:18:06.950672",
     "exception": false,
     "start_time": "2024-10-30T19:18:06.915492",
     "status": "completed"
    },
    "tags": []
   },
   "source": [
    "Como resultado da função SELECT, temos a seguinte tabela:\n",
    "\n",
    "| id_cliente | id_transacao | data_compra |valor | id_loja |\n",
    "|------------|----------|----|-----| ------- |\n",
    "| 1| 768805383    | 2021-06-10    | 50.74 |magalu \n",
    "| 2 | 768805399    | 2021-06-13    |  30.90 | giraffas \n",
    "| 3 | 818770008    |2021-06-05   |  110.00 |  postoshell  \n",
    "|1 |76856563 | 2021-07-10 |2000.90 |magalu\n",
    "|1|767573759|2021-06-20|15.70|subway\n",
    "| 3|818575758|2021-06-25|2.99|seveneleven\n",
    " |4|764545534|2021-07-10|50.74|extra\n",
    "|5|76766789|2021-08-92|10.00|subway\n",
    "|3|8154567758|2021-08-15|1100.00|shopee "
   ]
  },
  {
   "cell_type": "markdown",
   "id": "e1415963",
   "metadata": {
    "id": "ok889VghEyKq",
    "papermill": {
     "duration": 0.035518,
     "end_time": "2024-10-30T19:18:07.021648",
     "exception": false,
     "start_time": "2024-10-30T19:18:06.986130",
     "status": "completed"
    },
    "tags": []
   },
   "source": [
    "#1. Filtros *and, or, in* e *between*\n",
    "\n",
    "Temos visto o comando SELECT de diversas formas durante as aulas, hoje vamos complementa-lo ainda mais com o comandos **where, and, or, in** e **between**.\n",
    "\n",
    "> **Atenção:** o comando **where** pode ser utilizado em conjunto com diversas funcionalidades como DELETE e UPDATE (mostramos isso no módulo 2)!\n",
    "\n"
   ]
  },
  {
   "cell_type": "markdown",
   "id": "a2ad036a",
   "metadata": {
    "id": "eqtRcYZgF94g",
    "papermill": {
     "duration": 0.03549,
     "end_time": "2024-10-30T19:18:07.092912",
     "exception": false,
     "start_time": "2024-10-30T19:18:07.057422",
     "status": "completed"
    },
    "tags": []
   },
   "source": [
    "## **1.1 Comando WHERE + AND**\n",
    "\n",
    "O comando **AND** seleciona aquelas instâncias que condizem com duas (ou mais) condições.  \n",
    "```sql \n",
    "SELECT <coluna1>, <coluna2>, ...\n",
    "FROM <nome_tabela>\n",
    "WHERE <condicao1> AND <condicao2>, ...,  AND <condicao3>;\n",
    "```"
   ]
  },
  {
   "cell_type": "markdown",
   "id": "31fdf4fe",
   "metadata": {
    "id": "Es70o6l6Pse2",
    "papermill": {
     "duration": 0.035409,
     "end_time": "2024-10-30T19:18:07.164272",
     "exception": false,
     "start_time": "2024-10-30T19:18:07.128863",
     "status": "completed"
    },
    "tags": []
   },
   "source": [
    "No nosso exemplo:\n",
    "\n",
    "```sql \n",
    "SELECT *\n",
    "FROM transacoes\n",
    "WHERE valor > 30 AND data_compra > 2020-07-01;\n",
    "```\n",
    "\n",
    "O resultado:\n",
    "\n",
    "| id_cliente | id_transacao | data_compra |valor | id_loja |\n",
    "|------------|----------|----|-----| ------- |\n",
    "|1 |76856563 | 2021-07-10 |2000.90 |magalu\n",
    " |4|764545534|2021-07-11|50.74|extra\n",
    "|3|8154567758|2021-08-15|1100.00|shopee"
   ]
  },
  {
   "cell_type": "markdown",
   "id": "b6ff39ca",
   "metadata": {
    "id": "RJaiLiVwGKVN",
    "papermill": {
     "duration": 0.035646,
     "end_time": "2024-10-30T19:18:07.235525",
     "exception": false,
     "start_time": "2024-10-30T19:18:07.199879",
     "status": "completed"
    },
    "tags": []
   },
   "source": [
    "## **1.2 Comando WHERE + OR**\n",
    "\n",
    "O comando **OR** seleciona aquelas instâncias que condizem com pelo menos um dos critérios.\n",
    "\n",
    "```sql \n",
    "SELECT <coluna1>, <coluna2>, ...\n",
    "FROM <nome_tabela>\n",
    "WHERE <condicao1> OR <condicao2>, ...,  OR <condicao3>;\n",
    "```\n",
    "\n",
    "No nosso exemplo:\n",
    "\n",
    "```sql \n",
    "SELECT *\n",
    "FROM transacoes\n",
    "WHERE valor > 30 OR data_compra > 2020-07-01;\n",
    "```\n",
    "\n",
    "O resultado:\n",
    "\n",
    "| id_cliente | id_transacao | data_compra |valor | id_loja |\n",
    "|------------|----------|----|-----| ------- |\n",
    "| 1| 768805383    | 2021-06-10    | 50.74 |magalu \n",
    "| 2 | 768805399    | 2021-06-13    |  30.90 | giraffas \n",
    "| 3 | 818770008    |2021-06-05   |  110.00 |  postoshell  \n",
    "|1 |76856563 | 2021-07-10 |2000.90 |magalu\n",
    " |4|764545534|2021-07-11|50.74|extra\n",
    "|5|76766789|2021-08-92|10.00|subway\n",
    "|3|8154567758|2021-08-15|1100.00|shopee"
   ]
  },
  {
   "cell_type": "markdown",
   "id": "0ec08506",
   "metadata": {
    "id": "ndHXYm1SSZg_",
    "papermill": {
     "duration": 0.035295,
     "end_time": "2024-10-30T19:18:07.306449",
     "exception": false,
     "start_time": "2024-10-30T19:18:07.271154",
     "status": "completed"
    },
    "tags": []
   },
   "source": [
    "## **1.3 Comando WHERE + IN**\n",
    "\n",
    "Ao invés de utilizar vários comandos OR, podemos utilizar o comando **IN**\n",
    "```sql\n",
    "SELECT <coluna1>, <coluna2>, ..., <coluna>\n",
    "FROM <nome_tabela>\n",
    "WHERE <coluna> IN (<valor1>, <valor2>, ...)\n",
    "```\n",
    "\n",
    "No nosso exemplo:\n",
    "\n",
    "```sql \n",
    "SELECT *\n",
    "FROM transacoes\n",
    "WHERE id_loja IN ('magalu','subway') AND valor > 10;\n",
    "```\n",
    "\n",
    "O resultado:\n",
    "\n",
    "| id_cliente | id_transacao | data_compra |valor | id_loja |\n",
    "|------------|----------|----|-----| ------- |\n",
    "| 1| 768805383    | 2021-06-10    | 50.74 |magalu \n",
    "|1 |76856563 | 2021-07-10 |2000.90 |magalu\n",
    "|1|767573759|2021-06-20|15.70|subway\n"
   ]
  },
  {
   "cell_type": "markdown",
   "id": "cab55a69",
   "metadata": {
    "id": "txyqCB4IRdZi",
    "papermill": {
     "duration": 0.035266,
     "end_time": "2024-10-30T19:18:07.377323",
     "exception": false,
     "start_time": "2024-10-30T19:18:07.342057",
     "status": "completed"
    },
    "tags": []
   },
   "source": [
    "## **1.4 Comando WHERE + BETWEEN**\n",
    "\n",
    "Com o comando BETWEEN, podemos encontrar instâncias entre < valor1 > e < valor2 >\n",
    "```sql\n",
    "SELECT <coluna1>, <coluna2>, ..., <coluna>\n",
    "FROM <nome_tabela>\n",
    "WHERE <coluna> BETWEEN <valor1> AND <valor2>\n",
    "```\n",
    "\n",
    "No nosso exemplo:\n",
    "\n",
    "```sql \n",
    "SELECT *\n",
    "FROM transacoes\n",
    "WHERE valor BETWEEN 60 AND 1000;\n",
    "```\n",
    "\n",
    "O resultado:\n",
    "\n",
    "| id_cliente | id_transacao | data_compra |valor | id_loja |\n",
    "|------------|----------|----|-----| ------- |\n",
    "| 3 | 818770008    |2021-06-05   |  110.00 |  postoshell  \n"
   ]
  },
  {
   "cell_type": "markdown",
   "id": "3f36fc56",
   "metadata": {
    "id": "48xTKCdcRmn-",
    "papermill": {
     "duration": 0.035388,
     "end_time": "2024-10-30T19:18:07.448395",
     "exception": false,
     "start_time": "2024-10-30T19:18:07.413007",
     "status": "completed"
    },
    "tags": []
   },
   "source": [
    "#2. Filtros *like* e *wildcards*\n",
    "\n",
    "Muitas vezes precisamos encontrar valores de texto dentro da tabela. Em alguns casos, poderiamos utilizar buscas exatas com as condições where e o '='. \n",
    "\n",
    "No entanto, nem sempre temos o valor exato da busca e para isso podemos utilizar os *wildcards* (na tabela) junto com a palavra **LIKE**. No SQL temos os seguintes elementos para utilizar:\n",
    "\n",
    "|Elemento | Onde usar | Como usar |\n",
    "|---------|-----------|-----------|\n",
    "|%| Pode ser substituido por 0 ou mais caracteres | LIKE 'h%t' retorna instâncias com início h e fim t como  hat, hit, hot e height\n",
    "|_| Pode ser substituido por 1 caracter | LIKE h_t retorna instâncias com hat, hit, hot mas não height\n",
    "|[ ] | Pode ser substítuido pelos caracteres indicados dentro dos [] | LIKE h[oa]t retorna instâncias hot e hat mas não hit\n",
    "| ^ | Pode ser substítuido pelos caracteres que NÃO estão indicados dentro dos [^  ] | LIKE h[^oa]t retornaria hit mas não hot e hat\n",
    "|-|\t Retorna instância que são capazes de ser substítuidos por caracteres dentro de um certo intervalo [<intervalo1>-<intervalo2>] | LIKE h[a-l]t retorna hat e hit mas não retorna hot\n",
    "\n",
    "\n",
    "\n"
   ]
  },
  {
   "cell_type": "markdown",
   "id": "5d38feab",
   "metadata": {
    "id": "veTg4-TieoOQ",
    "papermill": {
     "duration": 0.036078,
     "end_time": "2024-10-30T19:18:07.520181",
     "exception": false,
     "start_time": "2024-10-30T19:18:07.484103",
     "status": "completed"
    },
    "tags": []
   },
   "source": [
    "Como utilizar\n",
    "\n",
    "```sql\n",
    "SELECT <coluna1>, <coluna2>, ...\n",
    "FROM <nome_tabela>\n",
    "WHERE <coluna> LIKE <padrao_utilizando_wildcards>;\n",
    "```\n",
    "No nosso caso para encontrar 'magalu' podemos utilizar\n",
    "```sql \n",
    "WHERE id_loja LIKE 'mag%'\n",
    "WHERE id_loja LIKE 'mag_lu'\n",
    "WHERE id_loja LIKE '[mn]agalu'\n",
    "WHERE id_loja LIKE 'mag[^ou]lu'\n",
    "WHERE id_loja LIKE 'maga[a-k]u'\n",
    "```\n",
    "\n",
    "Vamos testar uma das formas?\n",
    "\n",
    "```sql \n",
    "SELECT * \n",
    "FROM transacoes \n",
    "WHERE id_loja LIKE 'mag%'\n",
    "```"
   ]
  },
  {
   "cell_type": "markdown",
   "id": "2835aad3",
   "metadata": {
    "id": "6yilarozf1tQ",
    "papermill": {
     "duration": 0.034967,
     "end_time": "2024-10-30T19:18:07.590500",
     "exception": false,
     "start_time": "2024-10-30T19:18:07.555533",
     "status": "completed"
    },
    "tags": []
   },
   "source": [
    "| id_cliente | id_transacao | data_compra |valor | id_loja |\n",
    "|------------|----------|----|-----| ------- |\n",
    "| 1| 768805383    | 2021-06-10    | 50.74 |magalu \n",
    "|1 |76856563 | 2021-07-10 |2000.90 |magalu\n"
   ]
  },
  {
   "cell_type": "markdown",
   "id": "36383f22",
   "metadata": {
    "id": "-25d04EWg49R",
    "papermill": {
     "duration": 0.035094,
     "end_time": "2024-10-30T19:18:07.660889",
     "exception": false,
     "start_time": "2024-10-30T19:18:07.625795",
     "status": "completed"
    },
    "tags": []
   },
   "source": [
    "Os wildcards podem ser diferentes de acordo com a ferramenta de banco de dados. Verifique a documentação específica."
   ]
  },
  {
   "cell_type": "markdown",
   "id": "bb1bf2e9",
   "metadata": {
    "id": "FrA84v9uR7XJ",
    "papermill": {
     "duration": 0.035045,
     "end_time": "2024-10-30T19:18:07.731106",
     "exception": false,
     "start_time": "2024-10-30T19:18:07.696061",
     "status": "completed"
    },
    "tags": []
   },
   "source": [
    "# 3. Seleção condicional"
   ]
  },
  {
   "cell_type": "markdown",
   "id": "8b2f3361",
   "metadata": {
    "id": "BcvbtBk5R9-f",
    "papermill": {
     "duration": 0.034966,
     "end_time": "2024-10-30T19:18:07.801668",
     "exception": false,
     "start_time": "2024-10-30T19:18:07.766702",
     "status": "completed"
    },
    "tags": []
   },
   "source": [
    "Caso tenhamos diversas condições e para cada uma dela queremos retornar uma seleção diferente, podemos utilizar o comando **CASE** associado com **WHEN**, **THEN** e **ELSE** (opcional). \n",
    "\n",
    "\n",
    "```sql\n",
    "CASE \n",
    "  WHEN <condicao1> THEN <comando1>\n",
    "  WHEN <condicao2> THEN <comando2>\n",
    "  ...\n",
    "  WHEN <condicaoN> THEN <comandoN>\n",
    "  ELSE <comando_caso_nenhuma_condicao_nao_seja_satisfeita>\n",
    "END\n",
    "```\n",
    "\n",
    "Na tradução literal, podemos ler da seguinte forma: \n",
    "* Caso a \\<condicao1\\> seja satisfeita, faça o \\<comando1\\> e saia\n",
    "* Caso a \\<condicao1\\> não seja satisfeita, check a \\<condicao2\\>\n",
    "* Caso a \\<condicao2\\> seja satisfeita, faça o \\<comando2\\> e saia\n",
    "* Siga checando as condições até encontrar uma que seja satisfeita \n",
    "* Caso nenhuma condição seja satisfeita, execute o  \\<comando_caso_nenhuma_condicao_nao_seja_satisfeita\\>\n",
    "\n",
    "O comando pode ser utilizando dentro de vários comando como SELECT, UPDATE e DELETE e até isoladamente (com o SELECT, UPDATE E DELETE,... dentro do < comandoN >).\n",
    "\n",
    "Vamos ao exemplo?\n",
    "\n",
    "```sql\n",
    "SELECT id_cliente, id_loja, valor,\n",
    "CASE\n",
    "    WHEN valor > 1000 THEN 'Compra com alto valor'\n",
    "    WHEN valor < 1000 THEN 'Compra com baixo valor'\n",
    "END \n",
    "AS classeValor \n",
    "FROM transacoes \n",
    "WHERE valor > 50;\n",
    "```\n",
    "\n",
    "\n",
    "O resultado: \n",
    "\n",
    "| id_cliente | valor | id_loja | classeValor\n",
    "|------------|----------| ------- |------|\n",
    "| 1 |50.74 |magalu | Compra com baixo valor |\n",
    "| 3 |  110.00 |  postoshell  | Compra com baixo valor |\n",
    "|1 |2000.90 |magalu | Compra com alto valor|\n",
    " |4|50.74|extra| Compra com baixo valor|\n",
    "|3|1100.00|shopee| Compra com alto valor|\n"
   ]
  },
  {
   "cell_type": "markdown",
   "id": "9a48b8b7",
   "metadata": {
    "id": "KJqp9AANOCtf",
    "papermill": {
     "duration": 0.035072,
     "end_time": "2024-10-30T19:18:07.872081",
     "exception": false,
     "start_time": "2024-10-30T19:18:07.837009",
     "status": "completed"
    },
    "tags": []
   },
   "source": [
    "<img src=\"https://raw.githubusercontent.com/andre-marcos-perez/ebac-course-utils/main/media/logo/newebac_logo_black_half.png\" alt=\"ebac-logo\">\n",
    "\n",
    "---\n",
    "\n",
    "# **Módulo 05** | SQL: Agregações\n",
    "Caderno de **Aula**<br> \n",
    "Professor [Mariane Neiva](www.linkedin.com/in/mariane-neiva)\n",
    "\n",
    "---"
   ]
  },
  {
   "cell_type": "markdown",
   "id": "636702ec",
   "metadata": {
    "id": "d9jDtUbDOE1-",
    "papermill": {
     "duration": 0.035106,
     "end_time": "2024-10-30T19:18:07.942381",
     "exception": false,
     "start_time": "2024-10-30T19:18:07.907275",
     "status": "completed"
    },
    "tags": []
   },
   "source": [
    "# **Tópicos**\n",
    "\n",
    "<ol type=\"1\">\n",
    "  <li>Função count e cláusula group by;</li>\n",
    "  <li>Funções min / max / sum / avg;</li>\n",
    "  <li>Cláusula having;</li>\n",
    "</ol>"
   ]
  },
  {
   "cell_type": "markdown",
   "id": "51e1aef2",
   "metadata": {
    "id": "SmoHgt-lwkpD",
    "papermill": {
     "duration": 0.035373,
     "end_time": "2024-10-30T19:18:08.013152",
     "exception": false,
     "start_time": "2024-10-30T19:18:07.977779",
     "status": "completed"
    },
    "tags": []
   },
   "source": [
    "---"
   ]
  },
  {
   "cell_type": "markdown",
   "id": "a8e72a50",
   "metadata": {
    "id": "GABI6OW8OfQ2",
    "papermill": {
     "duration": 0.035113,
     "end_time": "2024-10-30T19:18:08.083736",
     "exception": false,
     "start_time": "2024-10-30T19:18:08.048623",
     "status": "completed"
    },
    "tags": []
   },
   "source": [
    "# **Aulas**"
   ]
  },
  {
   "cell_type": "markdown",
   "id": "a7e5a6e1",
   "metadata": {
    "id": "NF7Pdc6hJ8oF",
    "papermill": {
     "duration": 0.035181,
     "end_time": "2024-10-30T19:18:08.154319",
     "exception": false,
     "start_time": "2024-10-30T19:18:08.119138",
     "status": "completed"
    },
    "tags": []
   },
   "source": [
    "Nessa aula, usaremos a seguinte tabela:"
   ]
  },
  {
   "cell_type": "markdown",
   "id": "046a61c5",
   "metadata": {
    "id": "QkH5jQruJG-L",
    "papermill": {
     "duration": 0.035668,
     "end_time": "2024-10-30T19:18:08.225668",
     "exception": false,
     "start_time": "2024-10-30T19:18:08.190000",
     "status": "completed"
    },
    "tags": []
   },
   "source": [
    "```sql\n",
    "CREATE TABLE transacoes (\n",
    "  id_cliente INT, \n",
    "  id_transacao INT,\n",
    "  data_compra DATE,\n",
    "  valor FLOAT, \n",
    "  id_loja varchar(25)\n",
    ");\n",
    "```"
   ]
  },
  {
   "cell_type": "markdown",
   "id": "44ffca1a",
   "metadata": {
    "id": "MLdOjQcDKCXc",
    "papermill": {
     "duration": 0.034939,
     "end_time": "2024-10-30T19:18:08.296362",
     "exception": false,
     "start_time": "2024-10-30T19:18:08.261423",
     "status": "completed"
    },
    "tags": []
   },
   "source": [
    "Também temos os seguintes valores inseridos na tabela"
   ]
  },
  {
   "cell_type": "markdown",
   "id": "6d1c51f5",
   "metadata": {
    "id": "I34tqzZrKOma",
    "papermill": {
     "duration": 0.035146,
     "end_time": "2024-10-30T19:18:08.366800",
     "exception": false,
     "start_time": "2024-10-30T19:18:08.331654",
     "status": "completed"
    },
    "tags": []
   },
   "source": [
    "```sql\n",
    "INSERT INTO transacoes VALUES (1,768805383,'2021-06-10',50.74,'magalu');\n",
    "INSERT INTO transacoes VALUES (2,768805399,'2021-06-13',30.90,'giraffas');\n",
    "INSERT INTO transacoes VALUES (3,818770008,'2021-06-05',110.00,'postoshell');\n",
    "INSERT INTO transacoes VALUES (1,76856563,'2021-07-10',2000.90,'magalu');\n",
    "INSERT INTO transacoes VALUES (1,767573759,'2021-06-20',15.70,'subway');\n",
    "INSERT INTO transacoes VALUES (3,818575758,'2021-06-25',2.99,'seveneleven');\n",
    "INSERT INTO transacoes VALUES (4,764545534,'2021-07-11',50.74,'extra');\n",
    "INSERT INTO transacoes VALUES (5,76766789,'2021-08-02',10.00,'subway');\n",
    "INSERT INTO transacoes VALUES (3,8154567758,'2021-08-15',1100.00,'shopee');\n",
    "```"
   ]
  },
  {
   "cell_type": "markdown",
   "id": "f754bd94",
   "metadata": {
    "id": "rRBLidUaK7NJ",
    "papermill": {
     "duration": 0.038705,
     "end_time": "2024-10-30T19:18:08.440770",
     "exception": false,
     "start_time": "2024-10-30T19:18:08.402065",
     "status": "completed"
    },
    "tags": []
   },
   "source": [
    "Como resultado da função SELECT, temos a seguinte tabela:\n",
    "\n",
    "| id_cliente | id_transacao | data_compra |valor | id_loja |\n",
    "|------------|----------|----|-----| ------- |\n",
    "| 1| 768805383    | 2021-06-10    | 50.74 |magalu \n",
    "| 2 | 768805399    | 2021-06-13    |  30.90 | giraffas \n",
    "| 3 | 818770008    |2021-06-05   |  110.00 |  postoshell  \n",
    "|1 |76856563 | 2021-07-10 |2000.90 |magalu\n",
    "|1|767573759|2021-06-20|15.70|subway\n",
    "| 3|818575758|2021-06-25|2.99|seveneleven\n",
    " |4|764545534|2021-07-10|50.74|extra\n",
    "|5|76766789|2021-08-92|10.00|subway\n",
    "|3|8154567758|2021-08-15|1100.00|shopee "
   ]
  },
  {
   "cell_type": "markdown",
   "id": "60f8da98",
   "metadata": {
    "id": "ok889VghEyKq",
    "papermill": {
     "duration": 0.036696,
     "end_time": "2024-10-30T19:18:08.513323",
     "exception": false,
     "start_time": "2024-10-30T19:18:08.476627",
     "status": "completed"
    },
    "tags": []
   },
   "source": [
    "#1. Função count e cláusula group by\n",
    "\n"
   ]
  },
  {
   "cell_type": "markdown",
   "id": "b2c28672",
   "metadata": {
    "id": "eqtRcYZgF94g",
    "papermill": {
     "duration": 0.045751,
     "end_time": "2024-10-30T19:18:08.594369",
     "exception": false,
     "start_time": "2024-10-30T19:18:08.548618",
     "status": "completed"
    },
    "tags": []
   },
   "source": [
    "## 1.1 **Função COUNT**\n",
    "\n",
    "A função **count** retorna a quantidade de linhas na tabela que corresponde a determinada seleção. \n",
    "\n",
    "```sql\n",
    "SELECT COUNT(<nome_coluna>)\n",
    "FROM <nome_tabela>\n",
    "WHERE <condicao>;\n",
    "```\n",
    "\n",
    "Exemplo:\n",
    "```sql\n",
    "SELECT COUNT(id_cliente) AS QUANTIDADE\n",
    "FROM transacoes\n",
    "WHERE id_cliente = 1\n",
    "```\n",
    "\n",
    "Resultado:\n",
    "\n",
    "| QUANTIDADE |\n",
    "|------------|\n",
    "| 3 |\n"
   ]
  },
  {
   "cell_type": "markdown",
   "id": "7963b32b",
   "metadata": {
    "id": "RJaiLiVwGKVN",
    "papermill": {
     "duration": 0.035335,
     "end_time": "2024-10-30T19:18:08.673301",
     "exception": false,
     "start_time": "2024-10-30T19:18:08.637966",
     "status": "completed"
    },
    "tags": []
   },
   "source": [
    "## **1.2 Cláusula *group by***\n",
    "\n",
    "O comando GROUP BY agrupa linhas que contém as mesmas condições e sumariza-os. Voce poderia informações por loja, clientes, entre outros critérios pertinentes a cada aplicação.\n",
    "\n",
    "No SQL Server: \n",
    "\n",
    "```sql\n",
    "SELECT <coluna1>, <coluna2>, ..., \n",
    "FROM <nome_tabela>\n",
    "WHERE <condicao>\n",
    "GROUP BY <nome_coluna>\n",
    "ORDER BY <nome_coluna>;\n",
    "```\n",
    "\n",
    "No exemplo:\n",
    "\n",
    "\n",
    "```sql\n",
    "SELECT COUNT(id_loja) AS #TRANSACOES_LOJA, id_loja AS loja\n",
    "FROM transacoes\n",
    "GROUP BY id_loja;\n",
    "```\n",
    "\n",
    "Importante: o # não é aceito no SQL Server. Remova-o para testar no site https://sqliteonline.com/.\n",
    "\n",
    "\n",
    "Resultado:\n",
    "\n",
    "|#TRANSACOES_LOJA | loja |\n",
    "|----------------|-------|\n",
    "|1|extra|\n",
    "|1|giraffas|\n",
    "|2|magalu|\n",
    "|1|postoshell|\n",
    "|1|seveneleven|\n",
    "|1|shopee|\n",
    "|2|subway|\n",
    "\n",
    "\n",
    "\n"
   ]
  },
  {
   "cell_type": "markdown",
   "id": "ebd04f50",
   "metadata": {
    "id": "48xTKCdcRmn-",
    "papermill": {
     "duration": 0.035091,
     "end_time": "2024-10-30T19:18:08.743936",
     "exception": false,
     "start_time": "2024-10-30T19:18:08.708845",
     "status": "completed"
    },
    "tags": []
   },
   "source": [
    "#2. Funções min / max / sum / avg\n",
    "\n",
    "Diversas funções estão disponível no SQL. Podemos realizar uma análise exploratória no própio Athena ou em outro sistema de banco de dados combinando tudo que aprendemos até agora e o que ainda veremos nesse curso. \n",
    "\n",
    "Hoje veremos as principais funções utilizadas no SQL. "
   ]
  },
  {
   "cell_type": "markdown",
   "id": "1b0e009c",
   "metadata": {
    "id": "pt_bfOGERti7",
    "papermill": {
     "duration": 0.0381,
     "end_time": "2024-10-30T19:18:08.818185",
     "exception": false,
     "start_time": "2024-10-30T19:18:08.780085",
     "status": "completed"
    },
    "tags": []
   },
   "source": [
    "## **2.1 Função min**"
   ]
  },
  {
   "cell_type": "markdown",
   "id": "9fd6fdb5",
   "metadata": {
    "id": "-w0YHoOkTwXg",
    "papermill": {
     "duration": 0.035325,
     "end_time": "2024-10-30T19:18:08.888838",
     "exception": false,
     "start_time": "2024-10-30T19:18:08.853513",
     "status": "completed"
    },
    "tags": []
   },
   "source": [
    "A função min retorna o menor valor da coluna indicada de acordo com as condições solicitadas.\n",
    "\n",
    "```sql\n",
    "SELECT MIN(<nome_coluna>)\n",
    "FROM <nome_tabela>\n",
    "WHERE <condicao>;\n",
    "```\n",
    "\n",
    "Exemplo:\n",
    "\n",
    "```sql\n",
    "SELECT MIN(valor), id_loja\n",
    "FROM transacoes\n",
    "WHERE id_cliente = 1;\n",
    "```\n",
    "\n",
    "Resultado:\n",
    "\n",
    "| MIN(valor) | id_loja|\n",
    "|----|---|\n",
    "| 15.70| subway|"
   ]
  },
  {
   "cell_type": "markdown",
   "id": "cbddc448",
   "metadata": {
    "id": "8l0zKzuLR0AS",
    "papermill": {
     "duration": 0.035352,
     "end_time": "2024-10-30T19:18:08.959553",
     "exception": false,
     "start_time": "2024-10-30T19:18:08.924201",
     "status": "completed"
    },
    "tags": []
   },
   "source": [
    "## **2.2 Função max**\n",
    "\n",
    "A função max retorna o maior valor da coluna indicada de acordo com as condições solicitadas.\n",
    "\n",
    "```sql\n",
    "SELECT MAX(<nome_coluna>)\n",
    "FROM <nome_tabela>\n",
    "WHERE <condicao>;\n",
    "```\n",
    "\n",
    "Exemplo:\n",
    "\n",
    "```sql\n",
    "SELECT MAX(valor), id_loja\n",
    "FROM transacoes\n",
    "WHERE id_cliente = 1;\n",
    "```\n",
    "\n",
    "Resultado:\n",
    "\n",
    "| MAX(valor) | id_loja|\n",
    "|----|---|\n",
    "| 2000.90| magalu|"
   ]
  },
  {
   "cell_type": "markdown",
   "id": "027e9b97",
   "metadata": {
    "id": "RjwfAhP9Tnmy",
    "papermill": {
     "duration": 0.035513,
     "end_time": "2024-10-30T19:18:09.030354",
     "exception": false,
     "start_time": "2024-10-30T19:18:08.994841",
     "status": "completed"
    },
    "tags": []
   },
   "source": [
    "## **2.3. Função sum**\n",
    "\n",
    "A função sum retorna a soma dos valores da coluna indicada de acordo com as condições solicitadas.\n",
    "\n",
    "```sql\n",
    "SELECT SUM(<nome_coluna>)\n",
    "FROM <nome_tabela>\n",
    "WHERE <condicao>;\n",
    "```\n",
    "\n",
    "Exemplo:\n",
    "\n",
    "```sql\n",
    "SELECT SUM(valor) \n",
    "FROM transacoes\n",
    "WHERE id_cliente = 1;\n",
    "```\n",
    "\n",
    "Resultado:\n",
    "\n",
    "| SUM(valor) |  \n",
    "|----| \n",
    "| 2067.3399999997|  "
   ]
  },
  {
   "cell_type": "markdown",
   "id": "46837cf1",
   "metadata": {
    "id": "MJCHWQJzTrco",
    "papermill": {
     "duration": 0.035325,
     "end_time": "2024-10-30T19:18:09.101474",
     "exception": false,
     "start_time": "2024-10-30T19:18:09.066149",
     "status": "completed"
    },
    "tags": []
   },
   "source": [
    "## **2.4. Função avg**\n",
    "\n",
    "\n",
    "A função avg retorna a média dos valores da coluna indicada de acordo com as condições solicitadas.\n",
    "\n",
    "```sql\n",
    "SELECT AVG(<nome_coluna>)\n",
    "FROM <nome_tabela>\n",
    "WHERE <condicao>;\n",
    "```\n",
    "\n",
    "Exemplo:\n",
    "\n",
    "```sql\n",
    "SELECT AVG(valor) AS media_magalu\n",
    "FROM transacoes\n",
    "WHERE id_loja = 'magalu';\n",
    "```\n",
    "\n",
    "Resultado:\n",
    "\n",
    "| media_magalu |  \n",
    "|----| \n",
    "| 1025.82| "
   ]
  },
  {
   "cell_type": "markdown",
   "id": "8900e1aa",
   "metadata": {
    "id": "FrA84v9uR7XJ",
    "papermill": {
     "duration": 0.034973,
     "end_time": "2024-10-30T19:18:09.171941",
     "exception": false,
     "start_time": "2024-10-30T19:18:09.136968",
     "status": "completed"
    },
    "tags": []
   },
   "source": [
    "# 3. Cláusula having\n",
    "\n",
    "\n",
    "Quando a condição é acompanhada de uma função (sum, avg, min, max, count, ...) utilizamos o comando HAVING ao invéz do WHERE. \n",
    "\n",
    "```sql\n",
    "SELECT column_name(s)\n",
    "FROM table_name\n",
    "GROUP BY column_name(s)\n",
    "HAVING condition\n",
    "```\n",
    "\n",
    "Exemplo:\n",
    "\n",
    "```sql\n",
    "SELECT COUNT(id_cliente), id_loja \n",
    "FROM transacoes\n",
    "GROUP BY id_loja\n",
    "HAVING COUNT(id_cliente) > 1;\n",
    "```\n",
    "\n",
    "Resultado: \n",
    "\n",
    "| COUNT(id_cliente) | id_loja |\n",
    "|-|-|\n",
    "|2 | magalu|\n",
    "| 2 | subway| "
   ]
  },
  {
   "cell_type": "markdown",
   "id": "45d220d8",
   "metadata": {
    "id": "KJqp9AANOCtf",
    "papermill": {
     "duration": 0.034913,
     "end_time": "2024-10-30T19:18:09.242079",
     "exception": false,
     "start_time": "2024-10-30T19:18:09.207166",
     "status": "completed"
    },
    "tags": []
   },
   "source": [
    "<img src=\"https://raw.githubusercontent.com/andre-marcos-perez/ebac-course-utils/main/media/logo/newebac_logo_black_half.png\" alt=\"ebac-logo\">\n",
    "\n",
    "---\n",
    "\n",
    "# **Módulo 06** | SQL: Trabalhando com Múltiplas Tabelas\n",
    "Caderno de **Aula**<br> \n",
    "Professor [Mariane Neiva](www.linkedin.com/in/mariane-neiva)\n",
    "\n",
    "---"
   ]
  },
  {
   "cell_type": "markdown",
   "id": "4fc554cd",
   "metadata": {
    "id": "d9jDtUbDOE1-",
    "papermill": {
     "duration": 0.03507,
     "end_time": "2024-10-30T19:18:09.312594",
     "exception": false,
     "start_time": "2024-10-30T19:18:09.277524",
     "status": "completed"
    },
    "tags": []
   },
   "source": [
    "# **Tópicos**\n",
    "\n",
    "<ol type=\"1\">\n",
    "  <li>Union;</li>\n",
    "  <li>Junções: inner / cross;</li>\n",
    "  <li>Junções: left / right;</li>\n",
    "</ol>"
   ]
  },
  {
   "cell_type": "markdown",
   "id": "109c7ef9",
   "metadata": {
    "id": "SmoHgt-lwkpD",
    "papermill": {
     "duration": 0.035205,
     "end_time": "2024-10-30T19:18:09.383029",
     "exception": false,
     "start_time": "2024-10-30T19:18:09.347824",
     "status": "completed"
    },
    "tags": []
   },
   "source": [
    "---"
   ]
  },
  {
   "cell_type": "markdown",
   "id": "310cfeb1",
   "metadata": {
    "id": "GABI6OW8OfQ2",
    "papermill": {
     "duration": 0.035128,
     "end_time": "2024-10-30T19:18:09.453676",
     "exception": false,
     "start_time": "2024-10-30T19:18:09.418548",
     "status": "completed"
    },
    "tags": []
   },
   "source": [
    "# **Aulas**"
   ]
  },
  {
   "cell_type": "markdown",
   "id": "c3a54b0a",
   "metadata": {
    "id": "NF7Pdc6hJ8oF",
    "papermill": {
     "duration": 0.036322,
     "end_time": "2024-10-30T19:18:09.525470",
     "exception": false,
     "start_time": "2024-10-30T19:18:09.489148",
     "status": "completed"
    },
    "tags": []
   },
   "source": [
    "Nessa aula, usaremos a seguinte tabela:"
   ]
  },
  {
   "cell_type": "markdown",
   "id": "6728dd37",
   "metadata": {
    "id": "QkH5jQruJG-L",
    "papermill": {
     "duration": 0.035967,
     "end_time": "2024-10-30T19:18:09.596835",
     "exception": false,
     "start_time": "2024-10-30T19:18:09.560868",
     "status": "completed"
    },
    "tags": []
   },
   "source": [
    "```sql\n",
    "CREATE TABLE transacoes (\n",
    "  id_cliente INT, \n",
    "  id_transacao INT,\n",
    "  data_compra DATE,\n",
    "  valor FLOAT, \n",
    "  id_loja varchar(25)\n",
    ");\n",
    "```"
   ]
  },
  {
   "cell_type": "markdown",
   "id": "9f7fad38",
   "metadata": {
    "id": "MLdOjQcDKCXc",
    "papermill": {
     "duration": 0.035729,
     "end_time": "2024-10-30T19:18:09.668258",
     "exception": false,
     "start_time": "2024-10-30T19:18:09.632529",
     "status": "completed"
    },
    "tags": []
   },
   "source": [
    "Também temos os seguintes valores inseridos na tabela"
   ]
  },
  {
   "cell_type": "markdown",
   "id": "5cf22758",
   "metadata": {
    "id": "I34tqzZrKOma",
    "papermill": {
     "duration": 0.035251,
     "end_time": "2024-10-30T19:18:09.738851",
     "exception": false,
     "start_time": "2024-10-30T19:18:09.703600",
     "status": "completed"
    },
    "tags": []
   },
   "source": [
    "```sql\n",
    "INSERT INTO transacoes VALUES (1,768805383,'2021-06-10',50.74,'magalu');\n",
    "INSERT INTO transacoes VALUES (2,768805399,'2021-06-13',30.90,'giraffas');\n",
    "INSERT INTO transacoes VALUES (3,818770008,'2021-06-05',110.00,'postoshell');\n",
    "INSERT INTO transacoes VALUES (1,76856563,'2021-07-10',2000.90,'magalu');\n",
    "INSERT INTO transacoes VALUES (1,767573759,'2021-06-20',15.70,'subway');\n",
    "INSERT INTO transacoes VALUES (3,818575758,'2021-06-25',2.99,'seveneleven');\n",
    "INSERT INTO transacoes VALUES (4,764545534,'2021-07-11',50.74,'extra');\n",
    "INSERT INTO transacoes VALUES (5,76766789,'2021-08-02',10.00,'subway');\n",
    "INSERT INTO transacoes VALUES (3,8154567758,'2021-08-15',1100.00,'shopee');\n",
    "```"
   ]
  },
  {
   "cell_type": "markdown",
   "id": "249ecd1f",
   "metadata": {
    "id": "rRBLidUaK7NJ",
    "papermill": {
     "duration": 0.035592,
     "end_time": "2024-10-30T19:18:09.809864",
     "exception": false,
     "start_time": "2024-10-30T19:18:09.774272",
     "status": "completed"
    },
    "tags": []
   },
   "source": [
    "Como resultado da função SELECT, temos a seguinte tabela:\n",
    "\n",
    "| id_cliente | id_transacao | data_compra |valor | id_loja |\n",
    "|------------|----------|----|-----| ------- |\n",
    "| 1| 768805383    | 2021-06-10    | 50.74 |magalu \n",
    "| 2 | 768805399    | 2021-06-13    |  30.90 | giraffas \n",
    "| 3 | 818770008    |2021-06-05   |  110.00 |  postoshell  \n",
    "|1 |76856563 | 2021-07-10 |2000.90 |magalu\n",
    "|1|767573759|2021-06-20|15.70|subway\n",
    "| 3|818575758|2021-06-25|2.99|seveneleven\n",
    " |4|764545534|2021-07-10|50.74|extra\n",
    "|5|76766789|2021-08-92|10.00|subway\n",
    "|3|8154567758|2021-08-15|1100.00|shopee "
   ]
  },
  {
   "cell_type": "markdown",
   "id": "1049e260",
   "metadata": {
    "id": "x_81anuj4UFT",
    "papermill": {
     "duration": 0.035275,
     "end_time": "2024-10-30T19:18:09.880737",
     "exception": false,
     "start_time": "2024-10-30T19:18:09.845462",
     "status": "completed"
    },
    "tags": []
   },
   "source": [
    "Além disso, também utilizaremos a tabela:\n",
    "\n",
    "```sql\n",
    "CREATE TABLE cliente (\n",
    "  id_cliente INT,  \n",
    "  nome varchar(25),\n",
    "  data_compra DATE,\n",
    "  valor_compra float, \n",
    "  loja_cadastro varchar(25)\n",
    ");\n",
    "```\n",
    "\n",
    "Teremos os seguintes dados na tabela:\n",
    "\n",
    "```sql\n",
    "INSERT INTO cliente VALUES (5,'jose', '2020-07-01',500.43,'cea');\n",
    "INSERT INTO cliente VALUES (1,'maria','2019-03-02',150.70,'riachuelo');\n",
    "INSERT INTO cliente VALUES (2,'valentina','2020-01-09',210.99,'zara');\n",
    "INSERT INTO cliente VALUES (4,'joana','2019-05-11',1300.50,'pontofrio');\n",
    "INSERT INTO cliente VALUES (6,'fernando','2020-03-02',86.55,'pontofrio'); \n",
    "```\n",
    "\n",
    "Como resultado temos:\n",
    "\n",
    "|id_cliente|nome|data_compra|valor_compra|loja_cadastro|\n",
    "|-|-|-|-|-|\n",
    "|5|jose|2020-07-01|500.43|cea|\n",
    "|1|maria|2019-03-02|150.70|riachuelo|\n",
    "|2|valentina|2020-01-09|210.99|zara|\n",
    "|4|joana|2019-05-11|1300.50|pontofrio|\n",
    "|6|fernando|2020-03-02|86.55|pontofrio|"
   ]
  },
  {
   "cell_type": "markdown",
   "id": "0d2ee028",
   "metadata": {
    "id": "ok889VghEyKq",
    "papermill": {
     "duration": 0.035654,
     "end_time": "2024-10-30T19:18:09.952660",
     "exception": false,
     "start_time": "2024-10-30T19:18:09.917006",
     "status": "completed"
    },
    "tags": []
   },
   "source": [
    "#1. Função UNION\n",
    "\n",
    "A função UNION combina colunas e mostra os valores das colunas sequencialmente. \n",
    "\n",
    "A função é utilizada junto com a função SELECT e estabelece algumas regras:\n",
    "\n",
    "\n",
    "1.   As seleções devem possuir o mesmo número de colunas\n",
    "2.   As colunas combinadas possuem o mesmo tipo de dado\n",
    "\n",
    "No SQL Server:\n",
    "\n",
    "```sql\n",
    "SELECT <colunas1> FROM <tabela1>\n",
    "UNION\n",
    "SELECT <colunas2>  FROM <tabela2>;\n",
    "```\n",
    "\n",
    "No exemplo\n",
    "\n",
    "```sql\n",
    "SELECT id_cliente FROM transacoes\n",
    "UNION\n",
    "SELECT id_cliente  FROM cliente;\n",
    "```\n",
    "\n",
    "Resultado:\n",
    "\n",
    "|id_cliente|\n",
    "|----------| \n",
    "|1|\n",
    "|2|\n",
    "|3|\n",
    "|4|\n",
    "|5|\n",
    "|6|\n"
   ]
  },
  {
   "cell_type": "markdown",
   "id": "17d0c6ec",
   "metadata": {
    "id": "GTLMydA69ZGT",
    "papermill": {
     "duration": 0.035417,
     "end_time": "2024-10-30T19:18:10.024296",
     "exception": false,
     "start_time": "2024-10-30T19:18:09.988879",
     "status": "completed"
    },
    "tags": []
   },
   "source": [
    "Pelo resultado anterior, é possível reparar que os valores não se repetem. Mesmo que a tabela transações mostre id_cliente = 1 em três linhas, a seleção com UNION mostra o valor apenas uma vez. \n",
    "\n",
    "Para mostrar todos os valores, use **UNION ALL** ao invés de **UNION**"
   ]
  },
  {
   "cell_type": "markdown",
   "id": "6e8f9946",
   "metadata": {
    "id": "eqtRcYZgF94g",
    "papermill": {
     "duration": 0.035756,
     "end_time": "2024-10-30T19:18:10.096384",
     "exception": false,
     "start_time": "2024-10-30T19:18:10.060628",
     "status": "completed"
    },
    "tags": []
   },
   "source": [
    "# 2. **Junções: inner / cross**\n",
    "\n",
    "\n"
   ]
  },
  {
   "cell_type": "markdown",
   "id": "4005b747",
   "metadata": {
    "id": "rQQ_R5ym-9yw",
    "papermill": {
     "duration": 0.035444,
     "end_time": "2024-10-30T19:18:10.167756",
     "exception": false,
     "start_time": "2024-10-30T19:18:10.132312",
     "status": "completed"
    },
    "tags": []
   },
   "source": [
    "Lembra da união de conjuntos da matemática? Revisitaremos nessa aula."
   ]
  },
  {
   "cell_type": "markdown",
   "id": "93499e65",
   "metadata": {
    "id": "3G086dzN-KHm",
    "papermill": {
     "duration": 0.035967,
     "end_time": "2024-10-30T19:18:10.239574",
     "exception": false,
     "start_time": "2024-10-30T19:18:10.203607",
     "status": "completed"
    },
    "tags": []
   },
   "source": [
    "## 2.1 Função inner\n",
    "\n",
    "A função inner mostra as informações comuns em duas seleções. Para ilustrar podemos observar a imagem abaixo:\n",
    "\n",
    "![tabela1lower.png](data:image/png;base64,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)\n",
    "\n",
    "\n",
    "Para utilizar a função:\n",
    "```sql\n",
    "SELECT <colunas>\n",
    "FROM <tabela1>\n",
    "INNER JOIN <tabela2>\n",
    "ON <tabela1>.<coluna> = <tabela2>.<coluna>;\n",
    "``` \n",
    "\n",
    "No exemplo:\n",
    "\n",
    "```sql\n",
    "SELECT transacoes.id_cliente, cliente.nome\n",
    "FROM transacoes\n",
    "INNER JOIN cliente\n",
    "ON transacoes.id_cliente = cliente.id_cliente;\n",
    "```\n",
    "\n",
    "Resultado:\n",
    "\n",
    "|id_cliente|nome|\n",
    "|-----|-----|\n",
    "|1|maria|\n",
    "|2|valentina|\n",
    "|1|maria|\n",
    "|1|maria|\n",
    "|4|joana\n",
    "|5|jose|\n",
    "\n"
   ]
  },
  {
   "cell_type": "markdown",
   "id": "efd923ba",
   "metadata": {
    "id": "vwu6dwNs-N6c",
    "papermill": {
     "duration": 0.035343,
     "end_time": "2024-10-30T19:18:10.310541",
     "exception": false,
     "start_time": "2024-10-30T19:18:10.275198",
     "status": "completed"
    },
    "tags": []
   },
   "source": [
    "## 2.2 Função cross\n",
    "\n",
    "A função cross realiza um cruzamento de dados de duas tabela. É possível unir todas as informações de uma tabela a outra como veremos no exemplo.\n",
    "\n",
    "```sql\n",
    "SELECT <colunas>\n",
    "FROM <tabela1>\n",
    "CROSS JOIN <tabela2>\n",
    "```\n",
    "\n",
    "No exemplo:\n",
    "```sql\n",
    "SELECT *\n",
    "FROM cliente\n",
    "CROSS JOIN transacoes\n",
    "```\n",
    "\n",
    "Parte do resultado: [clique aqui](https://drive.google.com/file/d/1nwjHByagyfL3R2gQm2ALQMverAVmk75J/view?usp=sharing) \n",
    "\n"
   ]
  },
  {
   "cell_type": "markdown",
   "id": "361bd9d5",
   "metadata": {
    "id": "7eVF8T9P-RBr",
    "papermill": {
     "duration": 0.035165,
     "end_time": "2024-10-30T19:18:10.381234",
     "exception": false,
     "start_time": "2024-10-30T19:18:10.346069",
     "status": "completed"
    },
    "tags": []
   },
   "source": [
    "# **3. Junções: left / right**\n",
    "\n",
    "Nesses dois modelos de junção, todas os dados selecionados de uma tabela serão mostrado enquanto apenas os dados comuns de outra serão selecionados. \n",
    "\n",
    "Vamos entender."
   ]
  },
  {
   "cell_type": "markdown",
   "id": "5f4f6fc4",
   "metadata": {
    "id": "mIf7HNlr-X08",
    "papermill": {
     "duration": 0.035602,
     "end_time": "2024-10-30T19:18:10.452518",
     "exception": false,
     "start_time": "2024-10-30T19:18:10.416916",
     "status": "completed"
    },
    "tags": []
   },
   "source": [
    "##3.1 Junção left\n",
    "\n",
    "Verifique a imagem abaixo:\n",
    "\n",
    "![leftjoin.png](data:image/png;base64,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)\n",
    "\n",
    "Nesse modelo, todos os dados da **tabela1** são mostrados enquanto apenas os dados da tabela2 que são comuns as duas tabelas são mostrados.\n",
    "\n",
    "No SQL Server: \n",
    "\n",
    "```sql\n",
    "SELECT <colunas>\n",
    "FROM <tabela1>\n",
    "LEFT JOIN <tabela2>\n",
    "ON <tabela1>.<nomecolunacomum> = <tabela2>.<nomecolunacomum>;\n",
    "```\n",
    "\n",
    "Exemplo:\n",
    "\n",
    "\n",
    "```sql\n",
    "SELECT *\n",
    "FROM transacoes\n",
    "LEFT JOIN cliente \n",
    "ON cliente.id_cliente = transacoes.id_cliente;\n",
    "```\n",
    "\n",
    "Resultado completo: [clique aqui](https://drive.google.com/file/d/1qoGtmKzNhSLME0igLrhoq-B97KaAj3h7/view?usp=sharing)"
   ]
  },
  {
   "cell_type": "markdown",
   "id": "cea5f199",
   "metadata": {
    "id": "Bh6zaK3c-aM_",
    "papermill": {
     "duration": 0.037116,
     "end_time": "2024-10-30T19:18:10.525748",
     "exception": false,
     "start_time": "2024-10-30T19:18:10.488632",
     "status": "completed"
    },
    "tags": []
   },
   "source": [
    "## 3.2 Junção right\n",
    "\n",
    "Verifique a imagem abaixo:\n",
    "\n",
    "![rightjoin.png](data:image/png;base64,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)\n",
    "\n",
    "Nesse modelo, todos os dados da **tabela2** são mostrados enquanto apenas os dados da **tabela1** que são comuns as duas tabelas são mostrados.\n",
    "\n",
    "No SQL Server: \n",
    "\n",
    "```sql\n",
    "SELECT <colunas>\n",
    "FROM <tabela1>\n",
    "RIGHT JOIN <tabela2>\n",
    "ON <tabela1>.<nomecolunacomum> = <tabela2>.<nomecolunacomum>;\n",
    "```\n",
    "\n",
    "Exemplo:\n",
    "\n",
    "\n",
    "```sql\n",
    "SELECT *\n",
    "FROM transacoes\n",
    "RIGHT JOIN cliente \n",
    "ON cliente.id_cliente = transacoes.id_cliente;\n",
    "```\n",
    "\n",
    "Para ver o resultado: [clique aqui](https://drive.google.com/file/d/1MYKpGh9WW_j-MOVDvPptijTHY5FJSAQG/view?usp=sharing)\n",
    "\n",
    "> Atenção: o site [SQLiteonline](https://sqliteonline.com/) não possui a função RIGHT JOIN"
   ]
  },
  {
   "cell_type": "markdown",
   "id": "d140b0b9",
   "metadata": {
    "id": "KJqp9AANOCtf",
    "papermill": {
     "duration": 0.035971,
     "end_time": "2024-10-30T19:18:10.598345",
     "exception": false,
     "start_time": "2024-10-30T19:18:10.562374",
     "status": "completed"
    },
    "tags": []
   },
   "source": [
    "<img src=\"https://raw.githubusercontent.com/andre-marcos-perez/ebac-course-utils/main/media/logo/newebac_logo_black_half.png\" alt=\"ebac-logo\">\n",
    "\n",
    "---\n",
    "\n",
    "# **Módulo 07** | SQL Avançado\n",
    "Caderno de **Aula**<br> \n",
    "Professor [Mariane Neiva](www.linkedin.com/in/mariane-neiva)\n",
    "\n",
    "---"
   ]
  },
  {
   "cell_type": "markdown",
   "id": "ff0cd82b",
   "metadata": {
    "id": "d9jDtUbDOE1-",
    "papermill": {
     "duration": 0.035777,
     "end_time": "2024-10-30T19:18:10.670535",
     "exception": false,
     "start_time": "2024-10-30T19:18:10.634758",
     "status": "completed"
    },
    "tags": []
   },
   "source": [
    "# **Tópicos**\n",
    "\n",
    "<ol type=\"1\">\n",
    "  <li>Subqueries;</li>\n",
    "  <li>Agregações por particionamento</li>\n",
    "  <li>Visões;</li>\n",
    "</ol>"
   ]
  },
  {
   "cell_type": "markdown",
   "id": "f8de02de",
   "metadata": {
    "id": "SmoHgt-lwkpD",
    "papermill": {
     "duration": 0.03577,
     "end_time": "2024-10-30T19:18:10.742345",
     "exception": false,
     "start_time": "2024-10-30T19:18:10.706575",
     "status": "completed"
    },
    "tags": []
   },
   "source": [
    "---"
   ]
  },
  {
   "cell_type": "markdown",
   "id": "78ad17d7",
   "metadata": {
    "id": "GABI6OW8OfQ2",
    "papermill": {
     "duration": 0.036025,
     "end_time": "2024-10-30T19:18:10.814414",
     "exception": false,
     "start_time": "2024-10-30T19:18:10.778389",
     "status": "completed"
    },
    "tags": []
   },
   "source": [
    "# **Aulas**"
   ]
  },
  {
   "cell_type": "markdown",
   "id": "af8e2075",
   "metadata": {
    "id": "NF7Pdc6hJ8oF",
    "papermill": {
     "duration": 0.035749,
     "end_time": "2024-10-30T19:18:10.886254",
     "exception": false,
     "start_time": "2024-10-30T19:18:10.850505",
     "status": "completed"
    },
    "tags": []
   },
   "source": [
    "Nessa aula, usaremos a seguinte tabela:"
   ]
  },
  {
   "cell_type": "markdown",
   "id": "76fe26d5",
   "metadata": {
    "id": "QkH5jQruJG-L",
    "papermill": {
     "duration": 0.035637,
     "end_time": "2024-10-30T19:18:10.957902",
     "exception": false,
     "start_time": "2024-10-30T19:18:10.922265",
     "status": "completed"
    },
    "tags": []
   },
   "source": [
    "```sql\n",
    "CREATE TABLE transacoes (\n",
    "  id_cliente INT, \n",
    "  id_transacao INT,\n",
    "  data_compra DATE,\n",
    "  valor FLOAT, \n",
    "  id_loja varchar(25)\n",
    ");\n",
    "```"
   ]
  },
  {
   "cell_type": "markdown",
   "id": "968fda78",
   "metadata": {
    "id": "MLdOjQcDKCXc",
    "papermill": {
     "duration": 0.036283,
     "end_time": "2024-10-30T19:18:11.030069",
     "exception": false,
     "start_time": "2024-10-30T19:18:10.993786",
     "status": "completed"
    },
    "tags": []
   },
   "source": [
    "Também temos os seguintes valores inseridos na tabela"
   ]
  },
  {
   "cell_type": "markdown",
   "id": "ee0a12dc",
   "metadata": {
    "id": "I34tqzZrKOma",
    "papermill": {
     "duration": 0.036423,
     "end_time": "2024-10-30T19:18:11.102302",
     "exception": false,
     "start_time": "2024-10-30T19:18:11.065879",
     "status": "completed"
    },
    "tags": []
   },
   "source": [
    "```sql\n",
    "INSERT INTO transacoes VALUES (1,768805383,'2021-06-10',50.74,'magalu');\n",
    "INSERT INTO transacoes VALUES (2,768805399,'2021-06-13',30.90,'giraffas');\n",
    "INSERT INTO transacoes VALUES (3,818770008,'2021-06-05',110.00,'postoshell');\n",
    "INSERT INTO transacoes VALUES (1,76856563,'2021-07-10',2000.90,'magalu');\n",
    "INSERT INTO transacoes VALUES (1,767573759,'2021-06-20',15.70,'subway');\n",
    "INSERT INTO transacoes VALUES (3,818575758,'2021-06-25',2.99,'seveneleven');\n",
    "INSERT INTO transacoes VALUES (4,764545534,'2021-07-11',50.74,'extra');\n",
    "INSERT INTO transacoes VALUES (5,76766789,'2021-08-02',10.00,'subway');\n",
    "INSERT INTO transacoes VALUES (3,8154567758,'2021-08-15',1100.00,'shopee');\n",
    "```"
   ]
  },
  {
   "cell_type": "markdown",
   "id": "c7671047",
   "metadata": {
    "id": "rRBLidUaK7NJ",
    "papermill": {
     "duration": 0.036708,
     "end_time": "2024-10-30T19:18:11.176052",
     "exception": false,
     "start_time": "2024-10-30T19:18:11.139344",
     "status": "completed"
    },
    "tags": []
   },
   "source": [
    "Como resultado da função SELECT, temos a seguinte tabela:\n",
    "\n",
    "| id_cliente | id_transacao | data_compra |valor | id_loja |\n",
    "|------------|----------|----|-----| ------- |\n",
    "| 1| 768805383    | 2021-06-10    | 50.74 |magalu \n",
    "| 2 | 768805399    | 2021-06-13    |  30.90 | giraffas \n",
    "| 3 | 818770008    |2021-06-05   |  110.00 |  postoshell  \n",
    "|1 |76856563 | 2021-07-10 |2000.90 |magalu\n",
    "|1|767573759|2021-06-20|15.70|subway\n",
    "| 3|818575758|2021-06-25|2.99|seveneleven\n",
    " |4|764545534|2021-07-10|50.74|extra\n",
    "|5|76766789|2021-08-92|10.00|subway\n",
    "|3|8154567758|2021-08-15|1100.00|shopee "
   ]
  },
  {
   "cell_type": "markdown",
   "id": "29320b97",
   "metadata": {
    "id": "rM6OChBV1RQ2",
    "papermill": {
     "duration": 0.035898,
     "end_time": "2024-10-30T19:18:11.248418",
     "exception": false,
     "start_time": "2024-10-30T19:18:11.212520",
     "status": "completed"
    },
    "tags": []
   },
   "source": [
    "Além disso, também utilizaremos a tabela:\n",
    "\n",
    "```sql\n",
    "CREATE TABLE cliente (\n",
    "  id_cliente INT,  \n",
    "  nome varchar(25),\n",
    "  data_compra DATE,\n",
    "  valor_compra float, \n",
    "  loja_cadastro varchar(25)\n",
    ");\n",
    "```\n",
    "\n",
    "Teremos os seguintes dados na tabela:\n",
    "\n",
    "```sql\n",
    "INSERT INTO cliente VALUES (5,'jose', '2020-07-01',500.43,'magalu');\n",
    "INSERT INTO cliente VALUES (1,'maria','2019-03-02',150.70,'subway');\n",
    "INSERT INTO cliente VALUES (2,'valentina','2020-01-09',210.99,'postoshell');\n",
    "INSERT INTO cliente VALUES (4,'joana','2019-05-11',1300.50,'magalu');\n",
    "INSERT INTO cliente VALUES (6,'fernando','2020-03-02',86.55,'seveneleven'); \n",
    "```\n",
    "\n",
    "Como resultado temos:\n",
    "\n",
    "|id_cliente|nome|data_compra|valor_compra|loja_cadastro|\n",
    "|-|-|-|-|-|\n",
    "|5|jose|2020-07-01|500.43|cea|\n",
    "|1|maria|2019-03-02|150.70|riachuelo|\n",
    "|2|valentina|2020-01-09|210.99|zara|\n",
    "|4|joana|2019-05-11|1300.50|pontofrio|\n",
    "|6|fernando|2020-03-02|86.55|pontofrio|"
   ]
  },
  {
   "cell_type": "markdown",
   "id": "78722bc4",
   "metadata": {
    "id": "ok889VghEyKq",
    "papermill": {
     "duration": 0.035718,
     "end_time": "2024-10-30T19:18:11.320229",
     "exception": false,
     "start_time": "2024-10-30T19:18:11.284511",
     "status": "completed"
    },
    "tags": []
   },
   "source": [
    "# 1. Subqueries\n",
    "\n",
    "Podemos resumir o uso de subqueries quando utilizamos um comando dentro do outro. \n",
    "\n",
    "Para utilizar, basta inserir um comando \n",
    "\n",
    "*  dentro de um SELECT, INSERT, UPDATE ou DELETE\n",
    "* junto com um operador = , >, <=, >= e LIKE. \n",
    "*  aliado a um WHERE, HAVING e FROM\n",
    "\n",
    "A query *externa* é chamada de **main query** e a interna é chamada de **subquery**.\n",
    "\n",
    "* a **subquery** deve ser utilizada com  parenteses \n",
    "* a **subquery** em geral é executada primeiro!\n",
    "* é como se a **subquery** fosse um comando condicional associado \n",
    "* **subquery** não pode ser associado com ORDER BY\n",
    "\n",
    "Exemplo teórico:\n",
    "\n",
    "```sql\n",
    "SELECT <nome_coluna>\n",
    "FROM <nome_tabela>\n",
    "WHERE <nome_coluna> <expressao> <operador>  \n",
    "    ( SELECT <coluna>  from <tabela>   WHERE ... );\n",
    "```\n",
    "\n",
    "Exemplo prático:\n",
    "\n",
    "\n",
    "```sql\n",
    "SELECT id_loja, id_cliente, id_transacao from transacoes \n",
    "WHERE id_loja IN\n",
    "(SELECT cliente.loja_cadastro from cliente where cliente.valor_compra > 160 )\n",
    "```\n",
    "\n",
    "> **O que ele executa?**\n",
    "\n",
    "Primeiro a **subquery** é executada.\n",
    "\n",
    "O resultado de:\n",
    "\n",
    "```sql\n",
    "SELECT cliente.loja_cadastro from cliente where cliente.valor_compra > 160\n",
    "```\n",
    "\n",
    "|loja_cadastro|\n",
    "|-|\n",
    "|magalu|\n",
    "|postoshell|\n",
    "|magalu|\n",
    "\n",
    "Ou seja, vamos considerar apenas essas lojas na seleção da **main query**.\n",
    "\n",
    "É como se traduzissemos para:\n",
    "```sql\n",
    "SELECT id_loja, id_cliente, id_transacao from transacoes \n",
    "WHERE id_loja IN\n",
    "('magalu','postoshell')\n",
    "```\n",
    "\n",
    "Resultado: \n",
    "\n",
    "|id_loja|id_cliente|id_transacao\n",
    "|-|-|-|\n",
    "|magalu|1|768805383|\n",
    "|postoshell|3|818770008|\n",
    "|magalu|1|76856563|\n",
    "\n",
    "Use a criatividade para gerar novas queries com subqueries!\n"
   ]
  },
  {
   "cell_type": "markdown",
   "id": "8d32c1b4",
   "metadata": {
    "id": "O1GZbhfC7vE3",
    "papermill": {
     "duration": 0.035382,
     "end_time": "2024-10-30T19:18:11.391516",
     "exception": false,
     "start_time": "2024-10-30T19:18:11.356134",
     "status": "completed"
    },
    "tags": []
   },
   "source": [
    "# 2. Agregações por particionamento\n",
    "\n",
    "Esse é um aspecto do AWS Athena utilizado para organizar e gerar as queries de maneira mais eficiente no framework.\n",
    "\n",
    "É uma organização hierarquica onde cada *pasta* contem *subpastas* com o rótulo e valores.\n",
    "\n",
    "> Por que utilizar? \n",
    "Para economizar dados carregados no AWS Athena, aumentando a performance reduzindo custos.\n",
    "\n",
    "> Como fazer?\n",
    "* No S3, crie uma pasta no AWS com o nome do seu dataset. \n",
    "* Vamos supor que queremos separar as lojas na nossa partição. \n",
    "* Para isso criamos subpastas:\n",
    "** transacoes_partition/id_loja=magalu\n",
    "** transacoes_partition/id_loja=giraffas\n",
    "** transacoes_partition/id_loja=postoshell\n",
    "** transacoes_partition/id_loja=subway\n",
    "** transacoes_partition/id_loja=seveneleven\n",
    "** transacoes_partition/id_loja=extra\n",
    "** transacoes_partition/id_loja=shopee\n",
    "\n",
    "Dentro de cada uma das subpastas, colocamos apenas aquelas informações referentes a id_loja dedicada.\n",
    "\n",
    "A geração da partição é indicada na hora da **CRIAÇÃO** da tabela com o comando **PARTITIONED by** id_loja (no exemplo).\n",
    "\n",
    "Depois da criação, é necessário carregas as partições como o comando: \n",
    "\n",
    "```sql\n",
    "CREATE EXTERNAL TABLE transacoes_part(\n",
    "  id_cliente BIGINT, \n",
    "  id_transacoes BIGINT, \n",
    "  valor DOUBLE) \n",
    "  PARTITIONED BY (id_loja string)\n",
    "ROW FORMAT SERDE 'org.apache.hadoop.hive.serde2.lazy.LazySimpleSerDe'\n",
    "WITH SERDEPROPERTIES (\n",
    "  'serialization.format' = ',',\n",
    "  'field.delim' = ','\n",
    ") \n",
    "LOCATION 's3://transacoes-partition/'\n",
    "```\n",
    "\n",
    "\n",
    "```sql \n",
    "MSCK REPAIR TABLE transacoes_part\n",
    "```\n",
    "\n",
    "Você pode verificar pela contagem de linhas na tabela completa:\n",
    "\n",
    "```sql \n",
    "select count(*) from transacoes_part\n",
    "```\n",
    "\n",
    "A partir disso, nós podemos seguir com os comandos de SELECT que aprendemos nos modulos do curso.\n",
    "\n",
    "> Mais detalhes na aula prática!"
   ]
  },
  {
   "cell_type": "markdown",
   "id": "9b763627",
   "metadata": {
    "id": "cGW-jtcAAvVO",
    "papermill": {
     "duration": 0.035721,
     "end_time": "2024-10-30T19:18:11.464365",
     "exception": false,
     "start_time": "2024-10-30T19:18:11.428644",
     "status": "completed"
    },
    "tags": []
   },
   "source": [
    "# 3. Visões\n",
    "\n",
    "Uma visão é uma tabela virtual, não fisica.\n",
    "\n",
    "Isso significa que toda vez a view é referenciada, ela é também criada. \n",
    "\n",
    "> Porque utilizar? \n",
    "Ao invés de fazer um SELECT várias vezes, você pode criar uma visão cujos dados são o resultado desse SELECT, ou quando:\n",
    "* você quer um subconjunto dos seus dados com frequência\n",
    "* você combina múltiplas tabelas\n",
    "* você quer simplificar as chamadas de queries\n",
    "\n",
    "\n",
    "Funções para a visão:\n",
    "\n",
    "\n",
    "|nome| descrição|\n",
    "|-|-|\n",
    "|CREATE VIEW| cria a visão a partir de um select|\n",
    "|DESCRIBE| mostra a lista de colunas da visão e atributos |\n",
    "|DROP VIEW| deleta a visão|\n",
    "|SHOW CREATE VIEW| mostra a query que criou a visao|\n",
    "|SHOW VIEWS|mostra as visões disponíveis em uma base de dados|\n",
    "|SHOW COLUMNS| lista as colunas em uma visão|\n",
    "\n",
    "Mais detalhes [aqui](https://docs.aws.amazon.com/athena/latest/ug/views.html)\n",
    "\n",
    "> Pratique!\n",
    "\n"
   ]
  },
  {
   "cell_type": "markdown",
   "id": "1b93c408",
   "metadata": {
    "id": "KJqp9AANOCtf",
    "papermill": {
     "duration": 0.035712,
     "end_time": "2024-10-30T19:18:11.537456",
     "exception": false,
     "start_time": "2024-10-30T19:18:11.501744",
     "status": "completed"
    },
    "tags": []
   },
   "source": [
    "<img src=\"https://raw.githubusercontent.com/andre-marcos-perez/ebac-course-utils/main/media/logo/newebac_logo_black_half.png\" alt=\"ebac-logo\">\n",
    "\n",
    "---\n",
    "\n",
    "# **Módulo 08** | SQL: Projeto Final\n",
    "Caderno de **Aula**<br> \n",
    "Professor [Mariane Neiva](www.linkedin.com/in/mariane-neiva)\n",
    "\n",
    "---"
   ]
  },
  {
   "cell_type": "markdown",
   "id": "27c51364",
   "metadata": {
    "id": "d9jDtUbDOE1-",
    "papermill": {
     "duration": 0.035668,
     "end_time": "2024-10-30T19:18:11.609881",
     "exception": false,
     "start_time": "2024-10-30T19:18:11.574213",
     "status": "completed"
    },
    "tags": []
   },
   "source": [
    "# **Tópicos**\n",
    "\n",
    "<ol type=\"1\">\n",
    "  <li>Introdução aos Kaggle;</li>\n",
    "  <li>Exploração de dados e análise de dados (EDA)</li>\n",
    "  <li>Storytelling</li>\n",
    "</ol>"
   ]
  },
  {
   "cell_type": "markdown",
   "id": "8d29c8c7",
   "metadata": {
    "id": "SmoHgt-lwkpD",
    "papermill": {
     "duration": 0.035425,
     "end_time": "2024-10-30T19:18:11.681251",
     "exception": false,
     "start_time": "2024-10-30T19:18:11.645826",
     "status": "completed"
    },
    "tags": []
   },
   "source": [
    "---"
   ]
  },
  {
   "cell_type": "markdown",
   "id": "fe0600b0",
   "metadata": {
    "id": "eqtRcYZgF94g",
    "papermill": {
     "duration": 0.035451,
     "end_time": "2024-10-30T19:18:11.752528",
     "exception": false,
     "start_time": "2024-10-30T19:18:11.717077",
     "status": "completed"
    },
    "tags": []
   },
   "source": [
    "# **1. Plataforma Kaggle**\n",
    "\n",
    "> **História**\n",
    "\n",
    "O [Kaggle](https://en.wikipedia.org/wiki/Kaggle) foi fundada em 2010 por [Anthony Goldbloom](https://en.wikipedia.org/wiki/Anthony_Goldbloom) e adquirida em 2017 pelo Google. \n",
    "\n",
    "> **O que é?**\n",
    "\n",
    "É  uma comunidade de programadores (principalmente voltada pra Data Science) que possui diversas bases de dados, competições, códigos e troca de informações entre desenvolvedores. Existem inclusive competições com prêmios e patrocinadas por grandes empresas.\n",
    "\n",
    "> **Por que utilizar?**\n",
    "\n",
    "Plataforma mundialmente conhecida, você pode construir seu portfólio por meio de notebooks e descobrir novos datasets. Você também pode utilizar o Kaggle para obter inspirações e ver como outros cientistas de dados/analistas desenvolver suas análises e insights\n",
    "\n",
    "> **Prática:**\n",
    "\n",
    "Vamos explorar o Kaggle? Faça sua conta [aqui!](https://www.kaggle.com/)\n",
    "\n",
    "\n",
    "\n"
   ]
  },
  {
   "cell_type": "markdown",
   "id": "563048cd",
   "metadata": {
    "id": "mkUQit9oOhmh",
    "papermill": {
     "duration": 0.035924,
     "end_time": "2024-10-30T19:18:11.824486",
     "exception": false,
     "start_time": "2024-10-30T19:18:11.788562",
     "status": "completed"
    },
    "tags": []
   },
   "source": [
    "# **2. Exploração e análise de dados**\n",
    "\n",
    "> **Por quê?**\n",
    "\n",
    "* Para entender o que temos na mão, precisamos explorar os dados. \n",
    "* Para ter insights sobre os dados, precisamos analisá-los. \n",
    "\n",
    "Muitas vezes, é a partir da analise explortatória inicial que conseguimos desenvolver as perguntas de negócio, o ponto chave para a análise de dados! \n",
    "\n",
    "> **O que é?**\n",
    "\n",
    "A exploração de dados é uma investigação das principais características dos dados. Nessa fase, você pode entender:\n",
    "* variáveis individuais \n",
    "* relação entre varíaveis\n",
    "* quais variáveis são mais importantes \n",
    "* quais variáveis tem valores nulos\n",
    "* como minimizar possíveis erros\n",
    "* busca de outliers\n",
    "\n",
    "Na análise de dados, fazemos as perguntas aos dados e utilizamos ferramentas de matemática/estatística para responde-las.  Você pode utilizar funções como:\n",
    "* análise de distribuição dos dados\n",
    "* valor médio/desvio\n",
    "* padrões (análise preditiva)\n",
    "* maiores/menos vendas dado categorias/condições\n",
    "\n",
    "\n",
    "> **Pontos chaves para não esquecer**\n",
    "\n",
    "* Você pode utilizar o Kaggle para ter ideias de como fazer a EDA e a análise de dados \n",
    "* *Garbage in, garbage out* -   \n",
    "* Sempre que puder, visualize graficamente os dados (Você pode utilizar uma linguagem de programação ou o CSV com  o retorno do SELECT no EXCEL) \n",
    "* Não há necessidade de usar todos os dados que você tem! Explore as informações, separe as perguntas e use as colunas certas\n",
    "* As vezes é preciso coletar mais dados. \n",
    "* 80% exploração, limpeza e tratamento, 20% análise \n",
    "\n",
    "* Não deixe de documentar tudo (falaremos na próxima aula)\n",
    "\n",
    "> **Prática:** vamos para nosso projeto de EDA + Análise?\n",
    "\n"
   ]
  },
  {
   "cell_type": "markdown",
   "id": "31f7ef36",
   "metadata": {
    "id": "VGsbySyaXu1R",
    "papermill": {
     "duration": 0.035802,
     "end_time": "2024-10-30T19:18:11.896269",
     "exception": false,
     "start_time": "2024-10-30T19:18:11.860467",
     "status": "completed"
    },
    "tags": []
   },
   "source": [
    "# **3. Storytelling**\n",
    "\n",
    "Não basta apenas codificar, é importante entender, documentar e contar os resultados. \n",
    "\n",
    "O processo de comunicação dos resultados é chamada de **storytelling**. \n",
    "\n",
    "Mas não é apenas falar os comandos, é sobre **contar uma história**.\n",
    "\n",
    "É como se você tivesse contando uma história para uma criança mesmo: como problemas, emoção, com descobertas e a mágica no final. [A jornada do herói!](https://pt.wikipedia.org/wiki/Monomito)\n",
    "\n",
    "Em análise de dados, você pode contar com as ferramentas que você tiver: slides, texto, animações, dashboards, etc. \n",
    "\n",
    "Alguns pontos importantes para lembrar no storytelling que tem tudo a ver com a exploração e análise de dados. Apesar das histórias de contos de fada serem floreadas com as cores e detalhes de cada planta na floresta, nem tudo aqui é relevante. \n",
    "\n",
    "Escolher o que mostrar e como mostrar pode fazer seu insight ser ou não convincente para quem está ouvindo: ou seja, encontrar o equilibrio entre o que colocar e o que não colocar na sua história de dados é importante!\n",
    "\n",
    "Para aprofundar, o livro [Storytelling with data](https://www.amazon.com.br/Storytelling-com-Dados-Visualiza%C3%A7%C3%A3o-Profissionais/dp/8550804681/ref=sr_1_1?adgrpid=82022319300&dchild=1&gclid=Cj0KCQjwxdSHBhCdARIsAG6zhlX2Mew8T9Ui09rWJwwYRBgIgj80Ol-yoZlAXSSuID3DF-V8jxJwwJQaAh8DEALw_wcB&hvadid=425954612556&hvdev=c&hvlocphy=1001769&hvnetw=g&hvqmt=e&hvrand=1506147827657889437&hvtargid=kwd-297573901809&hydadcr=5653_11235203&keywords=storytelling+with+data&qid=1626727530&sr=8-1) nos auxilia a escolher os melhores gráficos para contar os resultados e exibi-los da forma mais apropriada!\n",
    "\n",
    "> **Na prática:** Depois de toda EDA e Análise de dados feita com os dados da parte prática do módulo, conte cada um dos passos em um notebook Kaggle! Você pode inserir gráficos, figuras, explicar o passo-a-passo e o que for necessário para encantar os leitores (ou os recrutadores!).\n",
    "\n",
    "> Link para o projeto feito na aula [aqui](https://www.kaggle.com/marianeneiva/credit-eda-and-analysis)"
   ]
  }
 ],
 "metadata": {
  "kaggle": {
   "accelerator": "none",
   "dataSources": [],
   "dockerImageVersionId": 30761,
   "isGpuEnabled": false,
   "isInternetEnabled": true,
   "language": "python",
   "sourceType": "notebook"
  },
  "kernelspec": {
   "display_name": "Python 3",
   "language": "python",
   "name": "python3"
  },
  "language_info": {
   "codemirror_mode": {
    "name": "ipython",
    "version": 3
   },
   "file_extension": ".py",
   "mimetype": "text/x-python",
   "name": "python",
   "nbconvert_exporter": "python",
   "pygments_lexer": "ipython3",
   "version": "3.10.14"
  },
  "papermill": {
   "default_parameters": {},
   "duration": 21.184822,
   "end_time": "2024-10-30T19:18:12.251541",
   "environment_variables": {},
   "exception": null,
   "input_path": "__notebook__.ipynb",
   "output_path": "__notebook__.ipynb",
   "parameters": {},
   "start_time": "2024-10-30T19:17:51.066719",
   "version": "2.6.0"
  }
 },
 "nbformat": 4,
 "nbformat_minor": 5
}
